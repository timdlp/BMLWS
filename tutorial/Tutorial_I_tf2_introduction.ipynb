{
  "nbformat": 4,
  "nbformat_minor": 0,
  "metadata": {
    "anaconda-cloud": {},
    "colab": {
      "name": "Tutorial_I_tf2_introduction.ipynb",
      "provenance": [],
      "collapsed_sections": [
        "LDjO3RU9PR--",
        "BRh7fzJ0PR_A",
        "lh5a_0N3PR_G",
        "EqADCB3D9Rxo",
        "6nYU1iu0PR_I",
        "UX1iPTIbPR_Q",
        "7eB2znQCPR_Z",
        "yVgzUcxSPR_g",
        "GbnkrLAHPR_o",
        "jBd26x1bPR_v"
      ]
    },
    "kernelspec": {
      "display_name": "Python 3",
      "language": "python",
      "name": "python3"
    },
    "language_info": {
      "codemirror_mode": {
        "name": "ipython",
        "version": 3
      },
      "file_extension": ".py",
      "mimetype": "text/x-python",
      "name": "python",
      "nbconvert_exporter": "python",
      "pygments_lexer": "ipython3",
      "version": "3.6.7"
    }
  },
  "cells": [
    {
      "cell_type": "markdown",
      "metadata": {
        "id": "NBLpVgZ0PR-7"
      },
      "source": [
        "# Tutorial I: Introduction to TensorFlow 2\n"
      ]
    },
    {
      "cell_type": "markdown",
      "metadata": {
        "id": "pD0SXx8rPR-9"
      },
      "source": [
        "<p>\n",
        "Bern Winter School on Machine Learning, 2022<br>\n",
        "Prepared by Mykhailo Vladymyrov.\n",
        "</p>\n",
        "\n",
        "This work is licensed under a <a href=\"http://creativecommons.org/licenses/by-nc-sa/4.0/\">Creative Commons Attribution-NonCommercial-ShareAlike 4.0 International License</a>."
      ]
    },
    {
      "cell_type": "markdown",
      "source": [
        "In this tutorial session we will get familiar wtih:\n",
        "* How to do optimization in TF and what possibilities does that open to data science\n",
        "* how to apply that to virtually any practical problem\n",
        "   * unordered/tabular data\n",
        "   * data with continuous dimensions\n",
        "   * sequential data"
      ],
      "metadata": {
        "id": "fL_PNJdWWjqU"
      }
    },
    {
      "cell_type": "markdown",
      "metadata": {
        "id": "V56Jh-5RPR--"
      },
      "source": [
        "The main feature of TF is the way we define operations.\n",
        "In regular programming we define a set of functions or methods on the objects.\n",
        "In TF we define a computational graph. Computational graph is a directed graph in which every node corresponds to an operation or variable. Variables can feed their value into operations, and operations can feed their output into other operations.\n",
        "Then, during execution we feed some data and/or parameters as input of the graph, and the graph produces the output.\n",
        "\n",
        "In this course we will not cover TF1 interface, but you're encouraged to check how the same things cab be implemented in TF1 on the github repo.\n",
        "\n",
        "TF2 provides a high-level interface, allowing implementing \n",
        "\n",
        "While it is easy to use, some fundamental conceps can remain a bit obscured, but we will try to clarify that in the course."
      ]
    },
    {
      "cell_type": "markdown",
      "metadata": {
        "id": "LDjO3RU9PR--"
      },
      "source": [
        "## 00. Requirements"
      ]
    },
    {
      "cell_type": "markdown",
      "metadata": {
        "id": "SMz8xcmjPR-_"
      },
      "source": [
        "To run this notebooks you need Tensorflow and numpy installed.\n",
        "As some parts of this tutorial rely on specific functions, it's strongly advised to use the Chrome browser or Chromium derivatives.\n",
        "\n",
        "Basic knowledge of Python can be acquired [here](https://docs.python.org/3/tutorial/) and of Numpy [here](https://docs.scipy.org/doc/numpy/user/quickstart.html)\n",
        "\n",
        "Full documentation on Tensorflow functions is available in the [reference](https://www.tensorflow.org/api_docs/python/). Sometimes [functions' implementation](https://github.com/tensorflow/tensorflow) might help to understand what is happening under the hood.\n"
      ]
    },
    {
      "cell_type": "markdown",
      "metadata": {
        "id": "BRh7fzJ0PR_A"
      },
      "source": [
        "## 0. Cell execution"
      ]
    },
    {
      "cell_type": "markdown",
      "metadata": {
        "id": "9xnxfsAoPR_A"
      },
      "source": [
        "Press ``Ctrl+Enter`` or ``Shift+Enter`` on the next cell to execute the content"
      ]
    },
    {
      "cell_type": "code",
      "metadata": {
        "id": "XRhpRwVGPR_B",
        "colab": {
          "base_uri": "https://localhost:8080/"
        },
        "outputId": "79121837-de40-4509-8f95-78b80a67a375"
      },
      "source": [
        "print('It works')"
      ],
      "execution_count": 1,
      "outputs": [
        {
          "output_type": "stream",
          "name": "stdout",
          "text": [
            "It works\n"
          ]
        }
      ]
    },
    {
      "cell_type": "markdown",
      "metadata": {
        "id": "-5BkA6IoPR_D"
      },
      "source": [
        "Navigate between cells with arrows. Press `Enter` to edit cell, `Esc` to exit. Press `A` or `B` too create a new cell above or below. In Colab these correspond to `Ctrl+M A` and `Ctrl+M B`"
      ]
    },
    {
      "cell_type": "markdown",
      "metadata": {
        "id": "lh5a_0N3PR_G"
      },
      "source": [
        "## 1. Load necessary libraries"
      ]
    },
    {
      "cell_type": "code",
      "metadata": {
        "id": "6ioOWo6zQfZe"
      },
      "source": [
        "colab = True # set to True is using google colab"
      ],
      "execution_count": 3,
      "outputs": []
    },
    {
      "cell_type": "code",
      "metadata": {
        "id": "gqUkkrFGPpVq"
      },
      "source": [
        "if colab:\n",
        "    %tensorflow_version 2.x"
      ],
      "execution_count": 4,
      "outputs": []
    },
    {
      "cell_type": "code",
      "metadata": {
        "id": "quADyoPVPR_G"
      },
      "source": [
        "import os\n",
        "import sys\n",
        "import tarfile\n",
        "\n",
        "import numpy as np\n",
        "import matplotlib.pyplot as plt\n",
        "\n",
        "import tensorflow as tf\n",
        "\n",
        "%load_ext tensorboard"
      ],
      "execution_count": 5,
      "outputs": []
    },
    {
      "cell_type": "markdown",
      "metadata": {
        "id": "EqADCB3D9Rxo"
      },
      "source": [
        "### Download libraries"
      ]
    },
    {
      "cell_type": "code",
      "metadata": {
        "id": "yMxFBHhV9Rxq",
        "colab": {
          "base_uri": "https://localhost:8080/"
        },
        "outputId": "ce9f3be3-83a2-43e7-d6a0-bc0f242224d1"
      },
      "source": [
        "if colab:\n",
        "    path = os.path.abspath('.')+'/material.tgz'\n",
        "    url = 'https://github.com/neworldemancer/BMLWS/raw/main/tut_files/tpub0320.tgz'\n",
        "    p = tf.keras.utils.get_file(path, url)\n",
        "    assert p==path\n",
        "    tar = tarfile.open(path, \"r:gz\")\n",
        "    tar.extractall()\n",
        "    tar.close()"
      ],
      "execution_count": 6,
      "outputs": [
        {
          "output_type": "stream",
          "name": "stdout",
          "text": [
            "Downloading data from https://github.com/neworldemancer/BMLWS/raw/main/tut_files/tpub0320.tgz\n",
            "81215488/81207979 [==============================] - 0s 0us/step\n",
            "81223680/81207979 [==============================] - 0s 0us/step\n"
          ]
        }
      ]
    },
    {
      "cell_type": "markdown",
      "metadata": {
        "id": "6nYU1iu0PR_I"
      },
      "source": [
        "## 2. Create our first model"
      ]
    },
    {
      "cell_type": "markdown",
      "metadata": {
        "id": "4Y2sfGvrPR_I"
      },
      "source": [
        "First we need to define the input for the model. We will create `Input`, where during the excecution we will feed in the input values."
      ]
    },
    {
      "cell_type": "code",
      "metadata": {
        "id": "VK_OYmyQPR_J"
      },
      "source": [
        "input = tf.keras.Input(shape=(), name = 'input', dtype=tf.float32)"
      ],
      "execution_count": 7,
      "outputs": []
    },
    {
      "cell_type": "markdown",
      "metadata": {
        "id": "66TlvmFoPR_L"
      },
      "source": [
        "Then we will define two simple operations. In most cases simple Python notation gives the desired result."
      ]
    },
    {
      "cell_type": "code",
      "metadata": {
        "id": "GsfGjdP2PR_L"
      },
      "source": [
        "out1 = input + 5"
      ],
      "execution_count": 8,
      "outputs": []
    },
    {
      "cell_type": "code",
      "metadata": {
        "id": "NvbNqR-EPR_N"
      },
      "source": [
        "out2 = input * out1"
      ],
      "execution_count": 9,
      "outputs": []
    },
    {
      "cell_type": "markdown",
      "metadata": {
        "id": "xIxjV7UYSmG-"
      },
      "source": [
        "This is the our model:"
      ]
    },
    {
      "cell_type": "code",
      "source": [
        "model = tf.keras.Model(inputs=input, outputs=out1)"
      ],
      "metadata": {
        "id": "B4VzNGkFABXk"
      },
      "execution_count": 10,
      "outputs": []
    },
    {
      "cell_type": "code",
      "source": [
        "model.compile()\n",
        "model.summary()"
      ],
      "metadata": {
        "id": "A11v-Rge4g0I",
        "colab": {
          "base_uri": "https://localhost:8080/"
        },
        "outputId": "620ff18c-3980-4f5c-9339-b58208b4de51"
      },
      "execution_count": 11,
      "outputs": [
        {
          "output_type": "stream",
          "name": "stdout",
          "text": [
            "Model: \"model\"\n",
            "_________________________________________________________________\n",
            " Layer (type)                Output Shape              Param #   \n",
            "=================================================================\n",
            " input (InputLayer)          [(None,)]                 0         \n",
            "                                                                 \n",
            " tf.__operators__.add (TFOpL  (None,)                  0         \n",
            " ambda)                                                          \n",
            "                                                                 \n",
            "=================================================================\n",
            "Total params: 0\n",
            "Trainable params: 0\n",
            "Non-trainable params: 0\n",
            "_________________________________________________________________\n"
          ]
        }
      ]
    },
    {
      "cell_type": "code",
      "source": [
        "tf.keras.utils.plot_model(model)"
      ],
      "metadata": {
        "id": "278bH9oy3i7W",
        "colab": {
          "base_uri": "https://localhost:8080/",
          "height": 174
        },
        "outputId": "520d2167-e763-4523-ef0a-93fe1d3778bb"
      },
      "execution_count": 12,
      "outputs": [
        {
          "output_type": "execute_result",
          "data": {
            "image/png": "[encoded data removed]",
            "text/plain": [
              "<IPython.core.display.Image object>"
            ]
          },
          "metadata": {},
          "execution_count": 12
        }
      ]
    },
    {
      "cell_type": "markdown",
      "metadata": {
        "id": "UX1iPTIbPR_Q"
      },
      "source": [
        "## 3. Run the model"
      ]
    },
    {
      "cell_type": "code",
      "source": [
        "out1_res = model(1)\n",
        "print(out1_res)\n",
        "\n",
        "#out1 = input+5 = 1+5 = 6"
      ],
      "metadata": {
        "id": "NTLYuQqnAPtg",
        "colab": {
          "base_uri": "https://localhost:8080/"
        },
        "outputId": "8fc3c219-25fa-43cb-e4a4-dc6e4011ba79"
      },
      "execution_count": 13,
      "outputs": [
        {
          "output_type": "stream",
          "name": "stdout",
          "text": [
            "tf.Tensor(6.0, shape=(), dtype=float32)\n"
          ]
        }
      ]
    },
    {
      "cell_type": "markdown",
      "source": [
        "To obtain value of a tensor, we will call `.numpy()` on the tensor object:"
      ],
      "metadata": {
        "id": "_TpPwYaFQwNe"
      }
    },
    {
      "cell_type": "code",
      "source": [
        "out1_val = out1_res.numpy()\n",
        "print(out1_val)"
      ],
      "metadata": {
        "id": "li7BxxHLAVbp",
        "colab": {
          "base_uri": "https://localhost:8080/"
        },
        "outputId": "24e0d5f8-4088-449d-fe08-8df27cb4b92d"
      },
      "execution_count": 14,
      "outputs": [
        {
          "output_type": "stream",
          "name": "stdout",
          "text": [
            "6.0\n"
          ]
        }
      ]
    },
    {
      "cell_type": "markdown",
      "source": [
        "Ususally we can just call the predict method:"
      ],
      "metadata": {
        "id": "ONXAcELkQ6sO"
      }
    },
    {
      "cell_type": "code",
      "source": [
        "out1_val = model.predict([1])\n",
        "print(out1_val)"
      ],
      "metadata": {
        "id": "sL8ne2LMRAkP",
        "colab": {
          "base_uri": "https://localhost:8080/"
        },
        "outputId": "d5264029-f33f-409b-ce00-903a21c5301d"
      },
      "execution_count": 15,
      "outputs": [
        {
          "output_type": "stream",
          "name": "stdout",
          "text": [
            "[6.]\n"
          ]
        }
      ]
    },
    {
      "cell_type": "markdown",
      "source": [
        "The result is an array of size one. The interface is designed such that predisctions for multiple inputs can be performed at once:"
      ],
      "metadata": {
        "id": "Wg-G6z4MRLbu"
      }
    },
    {
      "cell_type": "code",
      "source": [
        "out1_val = model.predict([1, 2, 4])\n",
        "print(out1_val)"
      ],
      "metadata": {
        "id": "i3N22iVhRWhG",
        "colab": {
          "base_uri": "https://localhost:8080/"
        },
        "outputId": "c6e7865a-7e03-48e6-983f-1f6e4165f7f0"
      },
      "execution_count": 16,
      "outputs": [
        {
          "output_type": "stream",
          "name": "stdout",
          "text": [
            "[6. 7. 9.]\n"
          ]
        }
      ]
    },
    {
      "cell_type": "markdown",
      "metadata": {
        "id": "fMUKiw8HPR_W"
      },
      "source": [
        "Several values can be computed at the same time:"
      ]
    },
    {
      "cell_type": "code",
      "source": [
        "model = tf.keras.Model(inputs=input, outputs=[out1, out2])"
      ],
      "metadata": {
        "id": "jxnDjJLzARty"
      },
      "execution_count": 17,
      "outputs": []
    },
    {
      "cell_type": "code",
      "metadata": {
        "id": "AiYdynxRPR_V",
        "colab": {
          "base_uri": "https://localhost:8080/"
        },
        "outputId": "44bce9f0-7c86-4e5c-a8e7-84cc32c20e25"
      },
      "source": [
        "out1_val, out2_val = model.predict([3])\n",
        "print(out1_val)\n",
        "print(out2_val)\n",
        "\n",
        "#out1 = input+5 = 3+5 = 8\n",
        "#out2 = (input+5)*input = (3+5)*3 = 8*3=24"
      ],
      "execution_count": 18,
      "outputs": [
        {
          "output_type": "stream",
          "name": "stdout",
          "text": [
            "[8.]\n",
            "[24.]\n"
          ]
        }
      ]
    },
    {
      "cell_type": "markdown",
      "metadata": {
        "id": "7eB2znQCPR_Z"
      },
      "source": [
        "## 4. Tensor operations"
      ]
    },
    {
      "cell_type": "markdown",
      "metadata": {
        "id": "TLY2DDJFPR_Z"
      },
      "source": [
        "For ML tasks we often need to perform operations on high-dimensional data. Theese are represented as tensors in TF. For example we can calculate sum of squared values in an 1D array with 5 elements:"
      ]
    },
    {
      "cell_type": "code",
      "metadata": {
        "id": "boJP3IcWPR_a"
      },
      "source": [
        "input_arr = tf.keras.Input(name='input_arr', dtype=tf.float32, shape=(5,))\n",
        "squared = input_arr ** 2  # elementwise operation\n",
        "out_sum = tf.reduce_sum(squared)\n",
        "\n",
        "model = tf.keras.Model(input_arr, out_sum)"
      ],
      "execution_count": 19,
      "outputs": []
    },
    {
      "cell_type": "code",
      "metadata": {
        "id": "zZ8oSkcnPR_c",
        "scrolled": false,
        "colab": {
          "base_uri": "https://localhost:8080/"
        },
        "outputId": "8dcf86c3-56a1-4032-b559-841f9cc6c19b"
      },
      "source": [
        "np_arr = np.asarray([[1,2,3,4,5]], dtype=np.float32)\n",
        "\n",
        "sum_val = model.predict(np_arr)\n",
        "print(sum_val)\n",
        "\n",
        "# squared = (1,4,9,16,25)\n",
        "# out_sum = 55"
      ],
      "execution_count": 20,
      "outputs": [
        {
          "output_type": "stream",
          "name": "stdout",
          "text": [
            "55.0\n"
          ]
        }
      ]
    },
    {
      "cell_type": "code",
      "source": [
        "np_arr"
      ],
      "metadata": {
        "colab": {
          "base_uri": "https://localhost:8080/"
        },
        "id": "t9yfoUvkyEzP",
        "outputId": "32017f13-64a5-454a-b97b-967ea8f640bf"
      },
      "execution_count": 21,
      "outputs": [
        {
          "output_type": "execute_result",
          "data": {
            "text/plain": [
              "array([[1., 2., 3., 4., 5.]], dtype=float32)"
            ]
          },
          "metadata": {},
          "execution_count": 21
        }
      ]
    },
    {
      "cell_type": "code",
      "source": [
        "np_arr.sum(axis=0)"
      ],
      "metadata": {
        "colab": {
          "base_uri": "https://localhost:8080/"
        },
        "id": "cYGRhM45yIJZ",
        "outputId": "1492b4e9-9ea2-4df5-fe70-64edb8111bd1"
      },
      "execution_count": 22,
      "outputs": [
        {
          "output_type": "execute_result",
          "data": {
            "text/plain": [
              "array([1., 2., 3., 4., 5.], dtype=float32)"
            ]
          },
          "metadata": {},
          "execution_count": 22
        }
      ]
    },
    {
      "cell_type": "markdown",
      "metadata": {
        "id": "yZIbWxYZPR_d"
      },
      "source": [
        "Or we can do the same for several 1D arrays at once:"
      ]
    },
    {
      "cell_type": "code",
      "metadata": {
        "id": "SVuyQ7onPR_e",
        "colab": {
          "base_uri": "https://localhost:8080/"
        },
        "outputId": "e6c8ce38-745b-45ca-adb4-29c0ab71a6f9"
      },
      "source": [
        "input_arr = tf.keras.Input(name='input_arr', dtype=tf.float32, shape=(None,)) #None stands for unknows length of the array\n",
        "squared = tf.multiply(input_arr, input_arr)\n",
        "out_sum = tf.reduce_sum(squared, axis=1) # sum only along 1st axis\n",
        "\n",
        "model = tf.keras.Model(input_arr, out_sum)\n",
        "\n",
        "#Sample arrays of different size along first axis. \n",
        "#They all can be fed into the input_arr placeholder since along first axis size is unconstrained\n",
        "\n",
        "np_arr1 = np.asarray([[1,2,3,4,5]], dtype=np.float32)\n",
        "np_arr2 = np.asarray([[1,2,3,4], [2,3,4,5]], dtype=np.float32)\n",
        "np_arr3 = np.asarray([[1,2,3,4,5], [2,3,4,5,6], [25,65,12,12,11], [1,2,3,4,5], [2,3,4,5,6], [25,65,12,12,11]], dtype=np.float32)\n",
        "\n",
        "print(model.predict(np_arr1))\n",
        "print(model.predict(np_arr2))\n",
        "print(model.predict(np_arr3))\n",
        "    \n",
        "    "
      ],
      "execution_count": 23,
      "outputs": [
        {
          "output_type": "stream",
          "name": "stdout",
          "text": [
            "[55.]\n",
            "WARNING:tensorflow:5 out of the last 6 calls to <function Model.make_predict_function.<locals>.predict_function at 0x7f162a3ac5f0> triggered tf.function retracing. Tracing is expensive and the excessive number of tracings could be due to (1) creating @tf.function repeatedly in a loop, (2) passing tensors with different shapes, (3) passing Python objects instead of tensors. For (1), please define your @tf.function outside of the loop. For (2), @tf.function has experimental_relax_shapes=True option that relaxes argument shapes that can avoid unnecessary retracing. For (3), please refer to https://www.tensorflow.org/guide/function#controlling_retracing and https://www.tensorflow.org/api_docs/python/tf/function for  more details.\n",
            "[30. 54.]\n",
            "[  55.   90. 5259.   55.   90. 5259.]\n"
          ]
        }
      ]
    },
    {
      "cell_type": "markdown",
      "metadata": {
        "id": "yVgzUcxSPR_g"
      },
      "source": [
        "## 5. Exercise 1"
      ]
    },
    {
      "cell_type": "markdown",
      "metadata": {
        "id": "qlEAMfXYPR_g"
      },
      "source": [
        "Hint: You can use question mark to get description of function right from Jupyter notebook:"
      ]
    },
    {
      "cell_type": "code",
      "metadata": {
        "code_folding": [],
        "id": "VBrRrgILPR_i"
      },
      "source": [
        "tf.reduce_sum?"
      ],
      "execution_count": 27,
      "outputs": []
    },
    {
      "cell_type": "markdown",
      "metadata": {
        "id": "FABKnK1APR_k"
      },
      "source": [
        "or ``Shift+Tab`` within the brackets to see function parameters (just ``Space`` for google colab):"
      ]
    },
    {
      "cell_type": "code",
      "metadata": {
        "id": "0RtSqZFTPR_l"
      },
      "source": [
        "tf.reduce_sum()"
      ],
      "execution_count": null,
      "outputs": []
    },
    {
      "cell_type": "markdown",
      "metadata": {
        "id": "odN9jANSPR_m"
      },
      "source": [
        "Modify the code bellow to calculate mean of array's elements."
      ]
    },
    {
      "cell_type": "code",
      "metadata": {
        "id": "ENYoskWXPR_m",
        "colab": {
          "base_uri": "https://localhost:8080/",
          "height": 492
        },
        "outputId": "e6ecd3e2-30f7-48f9-a152-5c5edade9100"
      },
      "source": [
        "input_arr = tf.keras.Input(name='input_arr', shape=(None,), dtype=tf.float32) #None stands for unknows length of the array\n",
        "out_mean = tf.reduce_mean(input_arr,axis=1) # 2.use reduce_mean to claculate mean along specified axes\n",
        "\n",
        "np_arr = np.asarray([[1,2,3,4,5], [2,3,4,5,6], [25,65,12,12,11]], dtype=np.float32)\n",
        "np_arr1 = np.asarray([[2,2,120,2,3], [2,3,4,5,6], [25,65,12,12,11]], dtype=np.float32)\n",
        "\n",
        "# 3. create model and run the prediction\n",
        "model = tf.keras.Model(input_arr,out_mean)\n",
        "res = model.predict(np_arr)\n",
        "print(res)\n",
        "    \n",
        "#4. print model info & graph\n",
        "model.summary()\n",
        "tf.keras.utils.plot_model(model)\n"
      ],
      "execution_count": 29,
      "outputs": [
        {
          "output_type": "stream",
          "name": "stdout",
          "text": [
            "WARNING:tensorflow:6 out of the last 8 calls to <function Model.make_predict_function.<locals>.predict_function at 0x7f162a21bb90> triggered tf.function retracing. Tracing is expensive and the excessive number of tracings could be due to (1) creating @tf.function repeatedly in a loop, (2) passing tensors with different shapes, (3) passing Python objects instead of tensors. For (1), please define your @tf.function outside of the loop. For (2), @tf.function has experimental_relax_shapes=True option that relaxes argument shapes that can avoid unnecessary retracing. For (3), please refer to https://www.tensorflow.org/guide/function#controlling_retracing and https://www.tensorflow.org/api_docs/python/tf/function for  more details.\n",
            "[ 3.  4. 25.]\n",
            "Model: \"model_4\"\n",
            "_________________________________________________________________\n",
            " Layer (type)                Output Shape              Param #   \n",
            "=================================================================\n",
            " input_arr (InputLayer)      [(None, None)]            0         \n",
            "                                                                 \n",
            " tf.math.reduce_mean (TFOpLa  (None,)                  0         \n",
            " mbda)                                                           \n",
            "                                                                 \n",
            "=================================================================\n",
            "Total params: 0\n",
            "Trainable params: 0\n",
            "Non-trainable params: 0\n",
            "_________________________________________________________________\n"
          ]
        },
        {
          "output_type": "execute_result",
          "data": {
            "image/png": "[encoded data removed]",
            "text/plain": [
              "<IPython.core.display.Image object>"
            ]
          },
          "metadata": {},
          "execution_count": 29
        }
      ]
    },
    {
      "cell_type": "markdown",
      "metadata": {
        "id": "GbnkrLAHPR_o"
      },
      "source": [
        "## 6. Optimization problem"
      ]
    },
    {
      "cell_type": "markdown",
      "metadata": {
        "id": "A6VTHzpHPR_p"
      },
      "source": [
        "In ML we always try to optimize model parameters to minimize a loss function. TF provides easy interface for solving optimization problems.\n",
        "\n",
        "Let's see how this works. We will use a function $f$, parabolic with respect to the model parameter $t$: $f(x_0, x_1|t) = (x_0*t-x_1)^2$. Here $x_0$ and $x_1$ are given values for which we will try to minimize value of function $f$.\n",
        "\n",
        "We will create a keras layer `F`, a class inherided from `tf.keras.layers.Layer`. It will have just three methods:\n",
        "* `call` - main function, performing the actual computaion on the input\n",
        "* `__init__` - constructer, called upon creation\n",
        "* `build` - called when the model is is created\n",
        "\n",
        "We define `t` as a variable using `add_weight` and initialize it with a constant 0. Variables are by default trainable, *i.e.* their value will be changed during training. \n",
        "\n"
      ]
    },
    {
      "cell_type": "code",
      "source": [
        "class F(tf.keras.layers.Layer):\n",
        "  def __init__(self, **kwargs):\n",
        "    super().__init__(**kwargs)\n",
        "\n",
        "  def build(self, input_shape):\n",
        "    self.t = self.add_weight(initializer=tf.keras.initializers.Constant(0),\n",
        "                             name='t',\n",
        "                             dtype=tf.float32)\n",
        "    super().build(input_shape)\n",
        "\n",
        "  def call(self, x):\n",
        "    x0 = x[..., 0]\n",
        "    x1 = x[..., 1]\n",
        "    d = self.t * x0 - x1\n",
        "    f = d**2\n",
        "\n",
        "    return f"
      ],
      "metadata": {
        "id": "roV9dyf7qR-H"
      },
      "execution_count": 30,
      "outputs": []
    },
    {
      "cell_type": "markdown",
      "source": [
        "For simplicity we will keep $x_0$ and $x_1$ in an array: `x` = [$x_0$, $x_1$]"
      ],
      "metadata": {
        "id": "u0p9t4OBuE6G"
      }
    },
    {
      "cell_type": "code",
      "metadata": {
        "id": "D-EukogmPR_p"
      },
      "source": [
        "x = tf.keras.layers.Input(name='x', dtype=tf.float32, shape=(2,))\n",
        "\n",
        "f_layer = F()\n",
        "f = f_layer(x)\n",
        "\n",
        "model = tf.keras.Model(inputs=x, outputs=f)"
      ],
      "execution_count": 31,
      "outputs": []
    },
    {
      "cell_type": "code",
      "source": [
        "def loss_f(true_y, y):\n",
        "  return y"
      ],
      "metadata": {
        "id": "V5sCvajyvEZQ"
      },
      "execution_count": 32,
      "outputs": []
    },
    {
      "cell_type": "markdown",
      "metadata": {
        "id": "bARGtxfBPR_s"
      },
      "source": [
        "Next we create an optimizer: object that on each iteration adjusts values of all trainable parameters (in our case just `t` to minimize the value of `f`. \n",
        "Here we will use plain steepest gradient descent.\n",
        "\n",
        "We will minimize the value of the models output."
      ]
    },
    {
      "cell_type": "code",
      "source": [
        "optimizer = tf.keras.optimizers.SGD(learning_rate=0.01)\n",
        "model.compile(optimizer=optimizer, loss=loss_f)"
      ],
      "metadata": {
        "id": "zklpTDmqjGVp"
      },
      "execution_count": 33,
      "outputs": []
    },
    {
      "cell_type": "code",
      "source": [
        "model.summary()"
      ],
      "metadata": {
        "id": "1mnG7Gt89x4D",
        "colab": {
          "base_uri": "https://localhost:8080/"
        },
        "outputId": "db9b2dde-79bc-428c-998a-befa95460704"
      },
      "execution_count": 34,
      "outputs": [
        {
          "output_type": "stream",
          "name": "stdout",
          "text": [
            "Model: \"model_5\"\n",
            "_________________________________________________________________\n",
            " Layer (type)                Output Shape              Param #   \n",
            "=================================================================\n",
            " x (InputLayer)              [(None, 2)]               0         \n",
            "                                                                 \n",
            " f (F)                       (None,)                   1         \n",
            "                                                                 \n",
            "=================================================================\n",
            "Total params: 1\n",
            "Trainable params: 1\n",
            "Non-trainable params: 0\n",
            "_________________________________________________________________\n"
          ]
        }
      ]
    },
    {
      "cell_type": "code",
      "source": [
        "model.trainable_variables # All trainable parameters on the model"
      ],
      "metadata": {
        "id": "Eh4RREJ74mh4",
        "colab": {
          "base_uri": "https://localhost:8080/"
        },
        "outputId": "16695408-f552-4adb-a8fd-af32e83bbf9c"
      },
      "execution_count": 35,
      "outputs": [
        {
          "output_type": "execute_result",
          "data": {
            "text/plain": [
              "[<tf.Variable 'f/t:0' shape=() dtype=float32, numpy=0.0>]"
            ]
          },
          "metadata": {},
          "execution_count": 35
        }
      ]
    },
    {
      "cell_type": "code",
      "source": [
        "t = model.trainable_variables[0]"
      ],
      "metadata": {
        "id": "gUwQ9j-f-2P1"
      },
      "execution_count": 36,
      "outputs": []
    },
    {
      "cell_type": "code",
      "source": [
        "print(t)"
      ],
      "metadata": {
        "id": "e7-H0tMG-28j",
        "colab": {
          "base_uri": "https://localhost:8080/"
        },
        "outputId": "af486747-d0c8-4e86-f750-a663614f7c14"
      },
      "execution_count": 37,
      "outputs": [
        {
          "output_type": "stream",
          "name": "stdout",
          "text": [
            "<tf.Variable 'f/t:0' shape=() dtype=float32, numpy=0.0>\n"
          ]
        }
      ]
    },
    {
      "cell_type": "markdown",
      "source": [
        "`t` - is a TF tensor. To get actual value of `t` we need to call `.numpy()` on it:"
      ],
      "metadata": {
        "id": "3GgXqh-j-4yz"
      }
    },
    {
      "cell_type": "code",
      "source": [
        "print(t.numpy())"
      ],
      "metadata": {
        "id": "tSMzDhEV-4Az",
        "colab": {
          "base_uri": "https://localhost:8080/"
        },
        "outputId": "2c2d22fa-71e6-4d2f-bf9d-60d71b95f8f4"
      },
      "execution_count": 38,
      "outputs": [
        {
          "output_type": "stream",
          "name": "stdout",
          "text": [
            "0.0\n"
          ]
        }
      ]
    },
    {
      "cell_type": "code",
      "source": [
        "model.predict(x=[[1., 3.]])  # (1 * 0 - 3)**2 == 9"
      ],
      "metadata": {
        "id": "lw6AsUZUrzRW",
        "colab": {
          "base_uri": "https://localhost:8080/"
        },
        "outputId": "090ae756-b6d8-44fe-a9bb-32fb3f4127e9"
      },
      "execution_count": 39,
      "outputs": [
        {
          "output_type": "execute_result",
          "data": {
            "text/plain": [
              "array([9.], dtype=float32)"
            ]
          },
          "metadata": {},
          "execution_count": 39
        }
      ]
    },
    {
      "cell_type": "code",
      "metadata": {
        "id": "s238H1yOPR_u",
        "colab": {
          "base_uri": "https://localhost:8080/",
          "height": 1000
        },
        "outputId": "6e616e07-1233-45c2-a98e-ca0b6a4fcf90"
      },
      "source": [
        "# values of x1, x2 for which we will minimize f\n",
        "x0_val = 3.\n",
        "x1_val = 9.\n",
        "\n",
        "t_val = 0.\n",
        "\n",
        "# buffers to store intermidiate values of t and f to plot them later.\n",
        "t_sv = []\n",
        "f_sv = []\n",
        "\n",
        "# reset the value of t to zero\n",
        "t.assign(t_val)\n",
        "\n",
        "f_val = model.predict([[x0_val, x1_val]])\n",
        "t_val = t.numpy()\n",
        "    \n",
        "t_sv.append(t_val)\n",
        "f_sv.append(f_val)\n",
        "    \n",
        "# optimization works iteratively, adjusting the value of t on each step\n",
        "for itr in range (30):\n",
        "    model.fit(x=[[x0_val, x1_val]], y=[0], epochs=1)  # run one opdate iteration\n",
        "\n",
        "    f_val = model.predict([[x0_val, x1_val]])\n",
        "    t_val = model.trainable_variables[0].numpy()\n",
        "    #save the current values of t and the function f\n",
        "    t_sv.append(t_val)\n",
        "    f_sv.append(f_val)\n",
        "        \n",
        "\n",
        "\n",
        "#just find the nice range for plotting\n",
        "x0 = x1_val/x0_val\n",
        "xhalf = max(abs(t_sv[0]-x0), 5.)\n",
        "#fill array for parabola\n",
        "t_all = np.arange(x0-xhalf, x0+xhalf, xhalf/50.)\n",
        "f_all = np.asarray([(ti*x0_val-x1_val)*(ti*x0_val-x1_val) for ti in t_all])\n",
        "\n",
        "#draw all\n",
        "_, axs = plt.subplots(1, 3, figsize=(16,10))\n",
        "axs[0].plot(t_all, f_all, 'b', t_sv, f_sv, 'g^')\n",
        "axs[0].set_title('f(t | x1,x2)')\n",
        "axs[0].set_xlabel('t')\n",
        "axs[0].set_ylabel('f(t)')\n",
        "axs[0].legend(('f(t)', 'training iterations'),  loc='upper center')\n",
        "axs[1].plot(f_sv)\n",
        "axs[1].set_title('f(itr)');\n",
        "axs[1].set_ylabel('f(t)')\n",
        "axs[1].set_xlabel('training iteration')\n",
        "axs[2].semilogy(f_sv)\n",
        "axs[2].set_title('f(itr), log sclae');\n",
        "axs[2].set_ylabel('f(t)')\n",
        "axs[2].set_xlabel('training iteration')\n",
        "plt.show()"
      ],
      "execution_count": 40,
      "outputs": [
        {
          "output_type": "stream",
          "name": "stdout",
          "text": [
            "1/1 [==============================] - 0s 294ms/step - loss: 81.0000\n",
            "1/1 [==============================] - 0s 8ms/step - loss: 54.4644\n",
            "1/1 [==============================] - 0s 4ms/step - loss: 36.6219\n",
            "1/1 [==============================] - 0s 5ms/step - loss: 24.6245\n",
            "1/1 [==============================] - 0s 6ms/step - loss: 16.5575\n",
            "1/1 [==============================] - 0s 4ms/step - loss: 11.1333\n",
            "1/1 [==============================] - 0s 4ms/step - loss: 7.4860\n",
            "1/1 [==============================] - 0s 4ms/step - loss: 5.0336\n",
            "1/1 [==============================] - 0s 5ms/step - loss: 3.3846\n",
            "1/1 [==============================] - 0s 5ms/step - loss: 2.2758\n",
            "1/1 [==============================] - 0s 4ms/step - loss: 1.5302\n",
            "1/1 [==============================] - 0s 5ms/step - loss: 1.0289\n",
            "1/1 [==============================] - 0s 4ms/step - loss: 0.6919\n",
            "1/1 [==============================] - 0s 4ms/step - loss: 0.4652\n",
            "1/1 [==============================] - 0s 4ms/step - loss: 0.3128\n",
            "1/1 [==============================] - 0s 4ms/step - loss: 0.2103\n",
            "1/1 [==============================] - 0s 6ms/step - loss: 0.1414\n",
            "1/1 [==============================] - 0s 6ms/step - loss: 0.0951\n",
            "1/1 [==============================] - 0s 4ms/step - loss: 0.0639\n",
            "1/1 [==============================] - 0s 4ms/step - loss: 0.0430\n",
            "1/1 [==============================] - 0s 6ms/step - loss: 0.0289\n",
            "1/1 [==============================] - 0s 4ms/step - loss: 0.0194\n",
            "1/1 [==============================] - 0s 5ms/step - loss: 0.0131\n",
            "1/1 [==============================] - 0s 9ms/step - loss: 0.0088\n",
            "1/1 [==============================] - 0s 4ms/step - loss: 0.0059\n",
            "1/1 [==============================] - 0s 4ms/step - loss: 0.0040\n",
            "1/1 [==============================] - 0s 4ms/step - loss: 0.0027\n",
            "1/1 [==============================] - 0s 4ms/step - loss: 0.0018\n",
            "1/1 [==============================] - 0s 9ms/step - loss: 0.0012\n",
            "1/1 [==============================] - 0s 8ms/step - loss: 8.1223e-04\n"
          ]
        },
        {
          "output_type": "display_data",
          "data": {
            "image/png": "[encoded data removed]",
            "text/plain": [
              "<Figure size 1152x720 with 3 Axes>"
            ]
          },
          "metadata": {
            "needs_background": "light"
          }
        }
      ]
    },
    {
      "cell_type": "markdown",
      "metadata": {
        "id": "jBd26x1bPR_v"
      },
      "source": [
        "## 7. Exercise 2"
      ]
    },
    {
      "cell_type": "markdown",
      "metadata": {
        "id": "jUWLA6PqPR_y"
      },
      "source": [
        "Try to modify ``x0_val`` and ``x1_val`` in the above code, as well as the ``learning_rate`` and ``t`` initialization value, and see how it affects convergence. Get an intuition on simple example, it is very useful!\n",
        "\n",
        "Try to see when \n",
        "1. convergence is too slow \n",
        "2. oscillation near minimum occurs\n",
        "3. divergence\n"
      ]
    },
    {
      "cell_type": "code",
      "source": [
        "optimizer = tf.keras.optimizers.SGD(learning_rate=0.01111111)\n",
        "model.compile(optimizer=optimizer, loss=loss_f)"
      ],
      "metadata": {
        "id": "K3lw75toCVra"
      },
      "execution_count": 91,
      "outputs": []
    },
    {
      "cell_type": "code",
      "source": [
        "# values of x1, x2 for which we will minimize f\n",
        "x0_val = 3.\n",
        "x1_val = 9.\n",
        "\n",
        "t_val = 0.\n",
        "\n",
        "# buffers to store intermidiate values of t and f to plot them later.\n",
        "t_sv = []\n",
        "f_sv = []\n",
        "\n",
        "# reset the value of t to zero\n",
        "t.assign(t_val)\n",
        "\n",
        "f_val = model.predict([[x0_val, x1_val]])\n",
        "t_val = t.numpy()\n",
        "    \n",
        "t_sv.append(t_val)\n",
        "f_sv.append(f_val)\n",
        "    \n",
        "# optimization works iteratively, adjusting the value of t on each step\n",
        "for itr in range (30):\n",
        "    model.fit(x=[[x0_val, x1_val]], y=[0], epochs=1)  # run one opdate iteration\n",
        "\n",
        "    f_val = model.predict([[x0_val, x1_val]])\n",
        "    t_val = model.trainable_variables[0].numpy()\n",
        "    #save the current values of t and the function f\n",
        "    t_sv.append(t_val)\n",
        "    f_sv.append(f_val)\n",
        "        \n",
        "\n",
        "\n",
        "#just find the nice range for plotting\n",
        "x0 = x1_val/x0_val\n",
        "xhalf = max(abs(t_sv[0]-x0), 5.)\n",
        "#fill array for parabola\n",
        "t_all = np.arange(x0-xhalf, x0+xhalf, xhalf/50.)\n",
        "f_all = np.asarray([(ti*x0_val-x1_val)*(ti*x0_val-x1_val) for ti in t_all])\n",
        "\n",
        "#draw all\n",
        "_, axs = plt.subplots(1, 3, figsize=(16,10))\n",
        "axs[0].plot(t_all, f_all, 'b', t_sv, f_sv, 'g^')\n",
        "axs[0].set_title('f(t | x1,x2)')\n",
        "axs[0].set_xlabel('t')\n",
        "axs[0].set_ylabel('f(t)')\n",
        "axs[0].legend(('f(t)', 'training iterations'),  loc='upper center')\n",
        "axs[1].plot(f_sv)\n",
        "axs[1].set_title('f(itr)');\n",
        "axs[1].set_ylabel('f(t)')\n",
        "axs[1].set_xlabel('training iteration')\n",
        "axs[2].semilogy(f_sv)\n",
        "axs[2].set_title('f(itr), log sclae');\n",
        "axs[2].set_ylabel('f(t)')\n",
        "axs[2].set_xlabel('training iteration')\n",
        "plt.show()"
      ],
      "metadata": {
        "id": "Mb2ZaG0-CBj1",
        "outputId": "f87fe3fc-9db9-46e5-a890-c98dc530d988",
        "colab": {
          "base_uri": "https://localhost:8080/",
          "height": 1000
        }
      },
      "execution_count": 92,
      "outputs": [
        {
          "output_type": "stream",
          "name": "stdout",
          "text": [
            "1/1 [==============================] - 0s 207ms/step - loss: 81.0000\n",
            "1/1 [==============================] - 0s 5ms/step - loss: 51.8400\n",
            "1/1 [==============================] - 0s 4ms/step - loss: 33.1776\n",
            "1/1 [==============================] - 0s 9ms/step - loss: 21.2337\n",
            "1/1 [==============================] - 0s 4ms/step - loss: 13.5895\n",
            "1/1 [==============================] - 0s 4ms/step - loss: 8.6973\n",
            "1/1 [==============================] - 0s 6ms/step - loss: 5.5663\n",
            "1/1 [==============================] - 0s 6ms/step - loss: 3.5624\n",
            "1/1 [==============================] - 0s 4ms/step - loss: 2.2799\n",
            "1/1 [==============================] - 0s 6ms/step - loss: 1.4592\n",
            "1/1 [==============================] - 0s 8ms/step - loss: 0.9339\n",
            "1/1 [==============================] - 0s 4ms/step - loss: 0.5977\n",
            "1/1 [==============================] - 0s 4ms/step - loss: 0.3825\n",
            "1/1 [==============================] - 0s 5ms/step - loss: 0.2448\n",
            "1/1 [==============================] - 0s 4ms/step - loss: 0.1567\n",
            "1/1 [==============================] - 0s 5ms/step - loss: 0.1003\n",
            "1/1 [==============================] - 0s 4ms/step - loss: 0.0642\n",
            "1/1 [==============================] - 0s 7ms/step - loss: 0.0411\n",
            "1/1 [==============================] - 0s 7ms/step - loss: 0.0263\n",
            "1/1 [==============================] - 0s 4ms/step - loss: 0.0168\n",
            "1/1 [==============================] - 0s 7ms/step - loss: 0.0108\n",
            "1/1 [==============================] - 0s 7ms/step - loss: 0.0069\n",
            "1/1 [==============================] - 0s 6ms/step - loss: 0.0044\n",
            "1/1 [==============================] - 0s 4ms/step - loss: 0.0028\n",
            "1/1 [==============================] - 0s 4ms/step - loss: 0.0018\n",
            "1/1 [==============================] - 0s 4ms/step - loss: 0.0012\n",
            "1/1 [==============================] - 0s 5ms/step - loss: 7.3988e-04\n",
            "1/1 [==============================] - 0s 5ms/step - loss: 4.7354e-04\n",
            "1/1 [==============================] - 0s 4ms/step - loss: 3.0305e-04\n",
            "1/1 [==============================] - 0s 4ms/step - loss: 1.9395e-04\n"
          ]
        },
        {
          "output_type": "display_data",
          "data": {
            "image/png": "[encoded data removed]",
            "text/plain": [
              "<Figure size 1152x720 with 3 Axes>"
            ]
          },
          "metadata": {
            "needs_background": "light"
          }
        }
      ]
    },
    {
      "cell_type": "markdown",
      "source": [
        "1. convergence is too slow  \n",
        "Learning rate is too low or too few iterations\n",
        "2. oscillation near minimum occurs(0.11)  \n",
        "3. divergence  "
      ],
      "metadata": {
        "id": "zo76Gh2zH_OB"
      }
    },
    {
      "cell_type": "code",
      "source": [
        ""
      ],
      "metadata": {
        "id": "jLv0pf65MXwp"
      },
      "execution_count": null,
      "outputs": []
    }
  ]
}