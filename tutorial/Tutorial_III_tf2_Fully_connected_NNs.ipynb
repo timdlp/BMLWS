{
  "nbformat": 4,
  "nbformat_minor": 0,
  "metadata": {
    "anaconda-cloud": {},
    "colab": {
      "name": "Tutorial_III_tf2_Fully_connected_NNs.ipynb",
      "provenance": [],
      "collapsed_sections": [
        "Dit404ghtkSr",
        "K2DojogoQv4l",
        "rcuT4JYRtkS4",
        "YzpETsFotkTF",
        "agJ3gkg0tkTJ",
        "cgHlUGwDtkTW",
        "hh6I4wJLtkTa",
        "kcLUPxNwtkTd",
        "TE_HXLPjfRBt",
        "I3v3Qp2WfMoE"
      ]
    },
    "kernelspec": {
      "display_name": "Python 3",
      "language": "python",
      "name": "python3"
    },
    "language_info": {
      "codemirror_mode": {
        "name": "ipython",
        "version": 3
      },
      "file_extension": ".py",
      "mimetype": "text/x-python",
      "name": "python",
      "nbconvert_exporter": "python",
      "pygments_lexer": "ipython3",
      "version": "3.6.7"
    },
    "accelerator": "GPU"
  },
  "cells": [
    {
      "cell_type": "markdown",
      "metadata": {
        "id": "UxDZW841tkSi"
      },
      "source": [
        "# Tutorial III: Fully connected NNs"
      ]
    },
    {
      "cell_type": "markdown",
      "metadata": {
        "id": "_Nha4NG_tkSl"
      },
      "source": [
        "<p>\n",
        "Bern Winter School on Machine Learning, 2022<br>\n",
        "Prepared by Mykhailo Vladymyrov.\n",
        "</p>\n",
        "\n",
        "This work is licensed under a <a href=\"http://creativecommons.org/licenses/by-nc-sa/4.0/\">Creative Commons Attribution-NonCommercial-ShareAlike 4.0 International License</a>."
      ]
    },
    {
      "cell_type": "markdown",
      "metadata": {
        "id": "HjuW0SKStkSm"
      },
      "source": [
        "In this session we will create a fully-connected neural network to perform handwritten digit recognition using TensorFlow"
      ]
    },
    {
      "cell_type": "markdown",
      "metadata": {
        "id": "Dit404ghtkSr"
      },
      "source": [
        "## 1. Load necessary libraries"
      ]
    },
    {
      "cell_type": "code",
      "metadata": {
        "id": "3E7_B0MiQv4a"
      },
      "source": [
        "colab = True # set to True is using google colab"
      ],
      "execution_count": 2,
      "outputs": []
    },
    {
      "cell_type": "code",
      "metadata": {
        "id": "0fcfiHcmuAPA"
      },
      "source": [
        "if colab:\n",
        "    %tensorflow_version 2.x"
      ],
      "execution_count": 3,
      "outputs": []
    },
    {
      "cell_type": "code",
      "metadata": {
        "id": "YbRY_dIutkSr"
      },
      "source": [
        "import os\n",
        "import sys\n",
        "import shutil\n",
        "import tarfile\n",
        "\n",
        "import numpy as np\n",
        "import matplotlib.pyplot as plt\n",
        "import tensorflow as tf\n",
        "import tensorflow.keras.datasets.mnist as mnist\n",
        "\n",
        "%load_ext tensorboard"
      ],
      "execution_count": 4,
      "outputs": []
    },
    {
      "cell_type": "markdown",
      "metadata": {
        "id": "K2DojogoQv4l"
      },
      "source": [
        "### Download libraries"
      ]
    },
    {
      "cell_type": "code",
      "metadata": {
        "id": "ZokqZcQWgCj0"
      },
      "source": [
        "if colab:\n",
        "    path = os.path.abspath('.')+'/material.tgz'\n",
        "    url = 'https://github.com/neworldemancer/BMLWS/raw/main/tut_files/tpub0320.tgz'\n",
        "    p = tf.keras.utils.get_file(path, url)\n",
        "    assert p==path\n",
        "    tar = tarfile.open(path, \"r:gz\")\n",
        "    tar.extractall()\n",
        "    tar.close()"
      ],
      "execution_count": 5,
      "outputs": []
    },
    {
      "cell_type": "code",
      "metadata": {
        "id": "J8RkDsYJQv4o"
      },
      "source": [
        "from utils import gr_disp"
      ],
      "execution_count": 6,
      "outputs": []
    },
    {
      "cell_type": "code",
      "metadata": {
        "id": "ohH_OvIXQv4r"
      },
      "source": [
        "def show_graph(g=None, gd=None):\n",
        "    gr_disp.show_graph(g, gd)\n",
        "    %tensorboard --logdir logs"
      ],
      "execution_count": 7,
      "outputs": []
    },
    {
      "cell_type": "markdown",
      "metadata": {
        "id": "XpJ1CBW2gW99"
      },
      "source": [
        "## 2. Training loop"
      ]
    },
    {
      "cell_type": "markdown",
      "metadata": {
        "id": "zJUUnwWcgW9-"
      },
      "source": [
        "The training as we just saw is done iteratively, by adjusting the model parameters.\n",
        "\n",
        "We perform optimization several times for all traininng dataset. Going through all this dataset is refered to as 'epoch'.\n",
        "\n",
        "When we do training its usually done in two loops. In outer loop we iterate over all epochs. For each epoch we usually split the dataset into small chuncks, batches, and optimization it performed for all of those.\n",
        "\n",
        "It is important that data doesn't go to the training pipeline in same order. So the overall scheme looks like this (pseudocode):\n",
        "\n",
        "\n",
        "```\n",
        "x,y = get_training_data()\n",
        "for epoch in range(number_epochs):\n",
        "   x_shfl,y_shfl = shuffle(x,y)\n",
        "   \n",
        "   for mb_idx in range(number_minibatches_in_batch):\n",
        "       x_mb,y_mb = get_minibatch(x_shfl,y_shfl, mb_idx)\n",
        "       \n",
        "       optimize_on(data=x_mb, labels=y_mb)\n",
        "```"
      ]
    },
    {
      "cell_type": "markdown",
      "metadata": {
        "id": "UtXcbsUJgW-I"
      },
      "source": [
        "## 3. Bulding blocks of a neural network"
      ]
    },
    {
      "cell_type": "markdown",
      "metadata": {
        "id": "iZ1JOmpCgW-I"
      },
      "source": [
        "Neural network consists of layers of neurons. Each neuron perfroms 2 operations.\n",
        "\n",
        "<img src=\"https://github.com/neworldemancer/BMLWS/raw/main/figures/Perceptron.png\" alt=\"drawing\" width=\"30%\"/>\n",
        "\n",
        "1. Calculate the linear transformation of the input vector $\\bar x$: \n",
        "$$z = \\bar W \\cdot \\bar x + b = \\sum {W_i x_i} + b$$ where $\\bar W$ is vector of weights and $b$ - bias.\n",
        "2. Perform the nonlinear transformation of the result using activation function $f$ $$y = f(z)$$ Here we will use [rectified linear unit activation](https://machinelearningmastery.com/rectified-linear-activation-function-for-deep-learning-neural-networks/).\n",
        "\n",
        "In a fully connected neural network each layer is a set of N neurons, performing different transformations of all the same layer's inputs $\\bar x = [x_i]$ producing output vector $\\bar y = [y_j]_{i=1..N}$: $$y_j = f(\\bar W_j \\cdot \\bar x + b_j)$$\n",
        "\n",
        "Since output of each layer forms input of next layer, one can write for layer $l$: $$x^l_j = f(\\bar W^l_j \\cdot \\bar x^{l-1} + b^l_j)$$ where $\\bar x^0$ is network's input vactor.\n",
        "\n",
        "<img src=\"https://github.com/neworldemancer/BMLWS/raw/main/figures/MLP.png\" alt=\"drawing\" width=\"50%\"/>\n",
        "\n",
        "To simplify building the network, we'll define a helper function, creating neuron layer with given number of outputs:"
      ]
    },
    {
      "cell_type": "code",
      "source": [
        "#tf.keras.layers.Dense??"
      ],
      "metadata": {
        "id": "gg8X9qOB3MC_"
      },
      "execution_count": 8,
      "outputs": []
    },
    {
      "cell_type": "code",
      "metadata": {
        "code_folding": [],
        "id": "iaU1t0WngW-J"
      },
      "source": [
        "# This class implements just one layer. Thanks input and implements one set of neurons.\n",
        "class Dense(tf.keras.layers.Layer):\n",
        "  def __init__(self,\n",
        "               units,\n",
        "               activation=None,\n",
        "               ):\n",
        "    \"\"\"Fully connected layer.\n",
        "\n",
        "    Parameters\n",
        "    ----------\n",
        "    units : int\n",
        "        Number of output neurons\n",
        "    name : None, optional\n",
        "        TF Scope to apply\n",
        "    activation : None, optional\n",
        "        Non-linear activation function\n",
        "\n",
        "    Returns\n",
        "    -------\n",
        "    h, W : tf.Tensor, tf.Tensor\n",
        "        Output of the fully connected layer and the weight matrix\n",
        "    \"\"\"\n",
        "    super(self).__init__(**kwargs)\n",
        "    self.units = int(units)\n",
        "    self.activation = activations.get(activation)\n",
        "\n",
        "  def build(self, input_shape):\n",
        "    input_shape = tf.TensorShape(input_shape)\n",
        "    last_dim = tf.compat.dimension_value(input_shape[-1])\n",
        "\n",
        "    self.kernel = self.add_weight(\n",
        "        'kernel',\n",
        "        shape=[last_dim, self.units],\n",
        "        initializer=self.kernel_initializer,\n",
        "        dtype=self.dtype,\n",
        "        trainable=True)\n",
        "    \n",
        "\n",
        "    self.bias = self.add_weight(\n",
        "          'bias',\n",
        "          shape=[self.units,],\n",
        "          initializer=self.bias_initializer,\n",
        "          dtype=self.dtype,\n",
        "          trainable=True)\n",
        "\n",
        "  def call(self, inputs):\n",
        "    outputs = tf.matmul(a=inputs, b=self.kernel)\n",
        "    outputs = tf.nn.bias_add(outputs, self.bias)\n",
        "\n",
        "    if self.activation is not None:\n",
        "      outputs = self.activation(outputs)\n",
        "\n",
        "    return outputs\n",
        "\n"
      ],
      "execution_count": 9,
      "outputs": []
    },
    {
      "cell_type": "markdown",
      "metadata": {
        "id": "J7gzOyONgW-K"
      },
      "source": [
        "In the case of classification, in the the last layer we use *softmax* transformation as non-linear transformation: $$y_i = \\sigma(\\bar z)_i = \\frac{ e^{z_i}}{\\sum_j e^{z_j}}$$"
      ]
    },
    {
      "cell_type": "markdown",
      "metadata": {
        "id": "EyRaNDlVgW-L"
      },
      "source": [
        "This will correspond to the one-hot labels that we use.\n",
        "Finally we will use the cross entropy between output $y$ and the ground truth (GT) $y_{GT}$ as the loss function: $$H(y, y_{GT}) = - \\sum_i y_{GT, i} \\log(y_{i})$$\n"
      ]
    },
    {
      "cell_type": "markdown",
      "metadata": {
        "id": "gpxvwQgKgW-L"
      },
      "source": [
        "## 4. Structure of a neural network"
      ]
    },
    {
      "cell_type": "code",
      "metadata": {
        "id": "Ba_cMJuJgW-M"
      },
      "source": [
        "n_input = 10\n",
        "n_output = 2"
      ],
      "execution_count": 10,
      "outputs": []
    },
    {
      "cell_type": "code",
      "metadata": {
        "id": "IqlSKoY8gW-O"
      },
      "source": [
        "x = tf.keras.layers.Input(name='X', dtype=tf.float32, shape=[n_input])\n",
        "\n",
        "#layer 1: 10 inputs -> 4, sigmoid activation\n",
        "l1 = tf.keras.layers.Dense(units=4, name='L1', activation='sigmoid')(x)\n",
        "\n",
        "#layer 2: 4 inputs -> 2, softmax activation\n",
        "l2 = tf.keras.layers.Dense(units=n_output, name='L2', activation='softmax')(l1)\n",
        "   \n",
        "#prediction: onehot->integer\n",
        "pred = tf.argmax(l2, axis=1, name='pred')\n",
        "\n",
        "model = tf.keras.Model(inputs=x, outputs=[l2, pred])"
      ],
      "execution_count": 11,
      "outputs": []
    },
    {
      "cell_type": "code",
      "metadata": {
        "id": "xwgSoCjQgW-P",
        "colab": {
          "base_uri": "https://localhost:8080/"
        },
        "outputId": "712e6331-3416-4ee7-d41e-ca559162551e"
      },
      "source": [
        "print(x)\n",
        "print(l1)\n",
        "print(l2)\n",
        "print(pred)"
      ],
      "execution_count": 12,
      "outputs": [
        {
          "output_type": "stream",
          "name": "stdout",
          "text": [
            "KerasTensor(type_spec=TensorSpec(shape=(None, 10), dtype=tf.float32, name='X'), name='X', description=\"created by layer 'X'\")\n",
            "KerasTensor(type_spec=TensorSpec(shape=(None, 4), dtype=tf.float32, name=None), name='L1/Sigmoid:0', description=\"created by layer 'L1'\")\n",
            "KerasTensor(type_spec=TensorSpec(shape=(None, 2), dtype=tf.float32, name=None), name='L2/Softmax:0', description=\"created by layer 'L2'\")\n",
            "KerasTensor(type_spec=TensorSpec(shape=(None,), dtype=tf.int64, name=None), name='tf.math.argmax/ArgMax:0', description=\"created by layer 'tf.math.argmax'\")\n"
          ]
        }
      ]
    },
    {
      "cell_type": "code",
      "metadata": {
        "id": "cINev65WgW-R",
        "colab": {
          "base_uri": "https://localhost:8080/"
        },
        "outputId": "674bce40-4782-4a18-bea4-caa533c4fd5f"
      },
      "source": [
        "model.summary()"
      ],
      "execution_count": 13,
      "outputs": [
        {
          "output_type": "stream",
          "name": "stdout",
          "text": [
            "Model: \"model\"\n",
            "_________________________________________________________________\n",
            " Layer (type)                Output Shape              Param #   \n",
            "=================================================================\n",
            " X (InputLayer)              [(None, 10)]              0         \n",
            "                                                                 \n",
            " L1 (Dense)                  (None, 4)                 44        \n",
            "                                                                 \n",
            " L2 (Dense)                  (None, 2)                 10        \n",
            "                                                                 \n",
            " tf.math.argmax (TFOpLambda)  (None,)                  0         \n",
            "                                                                 \n",
            "=================================================================\n",
            "Total params: 54\n",
            "Trainable params: 54\n",
            "Non-trainable params: 0\n",
            "_________________________________________________________________\n"
          ]
        }
      ]
    },
    {
      "cell_type": "code",
      "metadata": {
        "id": "_5qoNhQXUEKC",
        "colab": {
          "base_uri": "https://localhost:8080/",
          "height": 422
        },
        "outputId": "2faf0fd4-3c62-4980-9fba-73404073c159"
      },
      "source": [
        "tf.keras.utils.plot_model(model, show_shapes=True)"
      ],
      "execution_count": 14,
      "outputs": [
        {
          "output_type": "execute_result",
          "data": {
            "image/png": "[encoded data removed]",
            "text/plain": [
              "<IPython.core.display.Image object>"
            ]
          },
          "metadata": {},
          "execution_count": 14
        }
      ]
    },
    {
      "cell_type": "markdown",
      "metadata": {
        "id": "rcuT4JYRtkS4"
      },
      "source": [
        "## 5. Load the data"
      ]
    },
    {
      "cell_type": "markdown",
      "metadata": {
        "id": "JrbUAUlrtkS4"
      },
      "source": [
        "First we will load the data: 60000 training images and 10000 images for validation."
      ]
    },
    {
      "cell_type": "code",
      "metadata": {
        "id": "L33vRL03tkS7",
        "colab": {
          "base_uri": "https://localhost:8080/"
        },
        "outputId": "8a2cec80-8cba-4526-8c44-73c77a36d6de"
      },
      "source": [
        "(x_train_2d, y_train), (x_test_2d, y_test) = mnist.load_data()\n",
        "x_train_2d = x_train_2d/255.0\n",
        "x_test_2d = x_test_2d/255.0\n",
        "\n",
        "\n",
        "print ('train: data shape', x_train_2d.shape, 'label shape', y_train.shape)\n",
        "print ('test: data shape', x_test_2d.shape, 'label shape', y_test.shape)"
      ],
      "execution_count": 15,
      "outputs": [
        {
          "output_type": "stream",
          "name": "stdout",
          "text": [
            "train: data shape (60000, 28, 28) label shape (60000,)\n",
            "test: data shape (10000, 28, 28) label shape (10000,)\n"
          ]
        }
      ]
    },
    {
      "cell_type": "markdown",
      "metadata": {
        "id": "c1eXOuZOtkS8"
      },
      "source": [
        "Each image is a 28x28 pixels. For this model we will interppret it as a 1D array of 784 elements.\n",
        "Additionally we will use the labels a in so-called one hot encoding: each label is a vector of length 10, with all elements equal to 0, except, corresponding to the number written in the image. Let's take a look:"
      ]
    },
    {
      "cell_type": "code",
      "metadata": {
        "id": "-JouvebGFSzj"
      },
      "source": [
        "n_train = x_train_2d.shape[0]\n",
        "n_test = x_test_2d.shape[0]\n",
        "\n",
        "x_train = x_train_2d.reshape([n_train, -1])\n",
        "x_test = x_test_2d.reshape([n_test, -1])\n",
        "\n",
        "y_train_1_hot = np.zeros((n_train, y_train.max()+1))\n",
        "y_train_1_hot[np.arange(n_train),y_train] = 1\n",
        "\n",
        "y_test_1_hot = np.zeros((n_test, y_test.max()+1))\n",
        "y_test_1_hot[np.arange(n_test), y_test] = 1"
      ],
      "execution_count": 16,
      "outputs": []
    },
    {
      "cell_type": "code",
      "metadata": {
        "id": "QRO6zv6atkS_"
      },
      "source": [
        "img = x_train_2d[0]\n",
        "lbl = y_train[0]\n",
        "lbl_1_hot = y_train_1_hot[0]\n"
      ],
      "execution_count": 17,
      "outputs": []
    },
    {
      "cell_type": "markdown",
      "metadata": {
        "id": "gBbmxF94p8Ve"
      },
      "source": [
        "Let's check the images."
      ]
    },
    {
      "cell_type": "code",
      "metadata": {
        "id": "DrN9qvs3tkTA",
        "colab": {
          "base_uri": "https://localhost:8080/",
          "height": 282
        },
        "outputId": "f5486c93-5cc9-4207-fd02-df9fa845e0d4"
      },
      "source": [
        "plt.imshow(img, cmap='gray', interpolation='nearest')\n",
        "plt.grid(False)\n",
        "print('one-hot label:',lbl_1_hot, '. Actual label:', lbl )"
      ],
      "execution_count": 18,
      "outputs": [
        {
          "output_type": "stream",
          "name": "stdout",
          "text": [
            "one-hot label: [0. 0. 0. 0. 0. 1. 0. 0. 0. 0.] . Actual label: 5\n"
          ]
        },
        {
          "output_type": "display_data",
          "data": {
            "image/png": "[encoded data removed]",
            "text/plain": [
              "<Figure size 432x288 with 1 Axes>"
            ]
          },
          "metadata": {
            "needs_background": "light"
          }
        }
      ]
    },
    {
      "cell_type": "code",
      "metadata": {
        "id": "-d-oTmh3tkTE",
        "colab": {
          "base_uri": "https://localhost:8080/",
          "height": 594
        },
        "outputId": "992220d9-da41-4531-91fe-cafd2e1ec694"
      },
      "source": [
        "fig, axs = plt.subplots(5, 5, figsize=(10,10))\n",
        "for idx, im in enumerate(x_train_2d[0:25]):\n",
        "    y_idx = idx // 5\n",
        "    x_idx = idx % 5\n",
        "    axs[y_idx][x_idx].imshow(im, cmap='gray', interpolation='nearest')\n",
        "    axs[y_idx][x_idx].grid(False)\n",
        "plt.show()"
      ],
      "execution_count": 19,
      "outputs": [
        {
          "output_type": "display_data",
          "data": {
            "image/png": "[encoded data removed]",
            "text/plain": [
              "<Figure size 720x720 with 25 Axes>"
            ]
          },
          "metadata": {
            "needs_background": "light"
          }
        }
      ]
    },
    {
      "cell_type": "markdown",
      "metadata": {
        "id": "agJ3gkg0tkTJ"
      },
      "source": [
        "## 6. Bulding a neural network"
      ]
    },
    {
      "cell_type": "markdown",
      "metadata": {
        "id": "FfJEnLTmtkTK"
      },
      "source": [
        "Number of inputs for neurons will be given by input data, i.e. image, size. Output - by number of classes, 10 in our case."
      ]
    },
    {
      "cell_type": "code",
      "metadata": {
        "id": "LC1SpGLbtkTL"
      },
      "source": [
        "n_input = x_train.shape[1]\n",
        "n_output = y_train_1_hot.shape[1]"
      ],
      "execution_count": 20,
      "outputs": []
    },
    {
      "cell_type": "markdown",
      "metadata": {
        "id": "G7SF4JZgtkTP"
      },
      "source": [
        "Let's first build a most simple network, with just 1 layer."
      ]
    },
    {
      "cell_type": "code",
      "source": [
        "x = tf.keras.layers.Input(name='X', dtype=tf.float32, shape=[n_input])\n",
        "\n",
        "# 1 layer: 768 inputs -> 10 outputs, softmax activation\n",
        "l1 = tf.keras.layers.Dense(units=n_output, name='L1', activation='softmax')(x)\n",
        "\n",
        "model = tf.keras.Model(inputs=x, outputs=l1)"
      ],
      "metadata": {
        "id": "r5MqC-QJAIK0"
      },
      "execution_count": 21,
      "outputs": []
    },
    {
      "cell_type": "code",
      "source": [
        "optimizer = tf.keras.optimizers.Adam(learning_rate=0.005)\n",
        "model.compile(optimizer=optimizer, loss='categorical_crossentropy', metrics=['accuracy'])"
      ],
      "metadata": {
        "id": "fBowak_lAUEI"
      },
      "execution_count": 22,
      "outputs": []
    },
    {
      "cell_type": "markdown",
      "metadata": {
        "id": "RFwr5MLMjxI1"
      },
      "source": [
        "Model summary provides information about the model's layers and trainable parameters"
      ]
    },
    {
      "cell_type": "code",
      "metadata": {
        "id": "bCttp5zeb5l2",
        "colab": {
          "base_uri": "https://localhost:8080/"
        },
        "outputId": "f8db2a12-734a-47a0-ca17-f9c5bbba8458"
      },
      "source": [
        "model.summary()"
      ],
      "execution_count": 23,
      "outputs": [
        {
          "output_type": "stream",
          "name": "stdout",
          "text": [
            "Model: \"model_1\"\n",
            "_________________________________________________________________\n",
            " Layer (type)                Output Shape              Param #   \n",
            "=================================================================\n",
            " X (InputLayer)              [(None, 784)]             0         \n",
            "                                                                 \n",
            " L1 (Dense)                  (None, 10)                7850      \n",
            "                                                                 \n",
            "=================================================================\n",
            "Total params: 7,850\n",
            "Trainable params: 7,850\n",
            "Non-trainable params: 0\n",
            "_________________________________________________________________\n"
          ]
        }
      ]
    },
    {
      "cell_type": "markdown",
      "metadata": {
        "id": "6HIikZnSJhzT"
      },
      "source": [
        "We will train for 5 epochs, with batches of size 64. This is very similar to what we did in last session: split all data in batches, run the optimizer, for each epoch store the training and validadtion  accuracy for plotting."
      ]
    },
    {
      "cell_type": "code",
      "source": [
        "hist = model.fit(x=x_train, y=y_train_1_hot,\n",
        "                 epochs=5, batch_size=64,\n",
        "                 validation_data=(x_test, y_test_1_hot), \n",
        "                 )"
      ],
      "metadata": {
        "id": "kLidmnCaBN64",
        "colab": {
          "base_uri": "https://localhost:8080/"
        },
        "outputId": "ae7a01bc-7ed4-48ce-ec19-5476821cb02e"
      },
      "execution_count": 24,
      "outputs": [
        {
          "output_type": "stream",
          "name": "stdout",
          "text": [
            "Epoch 1/5\n",
            "938/938 [==============================] - 4s 3ms/step - loss: 0.3693 - accuracy: 0.8954 - val_loss: 0.2861 - val_accuracy: 0.9198\n",
            "Epoch 2/5\n",
            "938/938 [==============================] - 3s 3ms/step - loss: 0.2886 - accuracy: 0.9195 - val_loss: 0.2708 - val_accuracy: 0.9250\n",
            "Epoch 3/5\n",
            "938/938 [==============================] - 3s 3ms/step - loss: 0.2776 - accuracy: 0.9235 - val_loss: 0.2833 - val_accuracy: 0.9223\n",
            "Epoch 4/5\n",
            "938/938 [==============================] - 3s 3ms/step - loss: 0.2729 - accuracy: 0.9235 - val_loss: 0.2776 - val_accuracy: 0.9249\n",
            "Epoch 5/5\n",
            "938/938 [==============================] - 3s 3ms/step - loss: 0.2668 - accuracy: 0.9261 - val_loss: 0.2831 - val_accuracy: 0.9224\n"
          ]
        }
      ]
    },
    {
      "cell_type": "code",
      "source": [
        "fig, axs = plt.subplots(1, 2, figsize=(10,5))\n",
        "axs[0].plot(hist.epoch, hist.history['loss'])\n",
        "axs[0].plot(hist.epoch, hist.history['val_loss'])\n",
        "axs[0].legend(('training loss', 'validation loss'), loc='lower right')\n",
        "axs[1].plot(hist.epoch, hist.history['accuracy'])\n",
        "axs[1].plot(hist.epoch, hist.history['val_accuracy'])\n",
        "\n",
        "axs[1].legend(('training accuracy', 'validation accuracy'), loc='lower right')\n",
        "plt.show()"
      ],
      "metadata": {
        "id": "zKV09-n0Di1g",
        "colab": {
          "base_uri": "https://localhost:8080/",
          "height": 320
        },
        "outputId": "f7d2decd-6c66-4404-8bcd-15625c209d1e"
      },
      "execution_count": 25,
      "outputs": [
        {
          "output_type": "display_data",
          "data": {
            "image/png": "[encoded data removed]",
            "text/plain": [
              "<Figure size 720x360 with 2 Axes>"
            ]
          },
          "metadata": {
            "needs_background": "light"
          }
        }
      ]
    },
    {
      "cell_type": "code",
      "source": [
        "# get index of first incorrectly recognize digit and display it\n",
        "\n",
        "test_pred = model.predict(x_test)\n",
        "pred_class_idx = np.argmax(test_pred, axis=1)\n",
        "\n",
        "correct = pred_class_idx == y_test\n",
        "\n",
        "wrong_idx  = [i for i,c in enumerate(correct) if c == False]\n"
      ],
      "metadata": {
        "id": "KXSmBEU4DrYg"
      },
      "execution_count": 26,
      "outputs": []
    },
    {
      "cell_type": "code",
      "source": [
        "wrong_sample_idx = 3\n",
        "sample_idx = wrong_idx[wrong_sample_idx]\n",
        "\n",
        "plt.imshow(x_test_2d[sample_idx], cmap='gray', interpolation='nearest')\n",
        "plt.show()\n",
        "\n",
        "print(f'class: {y_test[sample_idx]}, predicted class:{pred_class_idx[sample_idx]}')"
      ],
      "metadata": {
        "id": "3Qmo5eCpEc89",
        "colab": {
          "base_uri": "https://localhost:8080/",
          "height": 282
        },
        "outputId": "8b927509-50c7-4b9f-9665-c4be371a8e20"
      },
      "execution_count": 27,
      "outputs": [
        {
          "output_type": "display_data",
          "data": {
            "image/png": "[encoded data removed]",
            "text/plain": [
              "<Figure size 432x288 with 1 Axes>"
            ]
          },
          "metadata": {
            "needs_background": "light"
          }
        },
        {
          "output_type": "stream",
          "name": "stdout",
          "text": [
            "class: 3, predicted class:2\n"
          ]
        }
      ]
    },
    {
      "cell_type": "code",
      "source": [
        "w1, b1 = model.get_weights()"
      ],
      "metadata": {
        "id": "p88CAkv2Facy"
      },
      "execution_count": 28,
      "outputs": []
    },
    {
      "cell_type": "markdown",
      "metadata": {
        "id": "WgYoROCLrBQW"
      },
      "source": [
        "The learned model parameters W1 are a matrix of weights that show importance of each input pixel (784) for each of the 10 outputs."
      ]
    },
    {
      "cell_type": "code",
      "metadata": {
        "id": "i-nnCph8rU01",
        "colab": {
          "base_uri": "https://localhost:8080/"
        },
        "outputId": "4be0c208-349b-4271-a835-1d9ffa430d32"
      },
      "source": [
        "print(w1.shape)"
      ],
      "execution_count": 29,
      "outputs": [
        {
          "output_type": "stream",
          "name": "stdout",
          "text": [
            "(784, 10)\n"
          ]
        }
      ]
    },
    {
      "cell_type": "markdown",
      "metadata": {
        "id": "i02IbJ2gtkTT"
      },
      "source": [
        "Let's visualize the trained weights:"
      ]
    },
    {
      "cell_type": "code",
      "metadata": {
        "id": "L371n9COtkTU",
        "colab": {
          "base_uri": "https://localhost:8080/",
          "height": 92
        },
        "outputId": "6f28e911-2c94-443d-da5b-9ba28996da18"
      },
      "source": [
        "w1 = w1.reshape(28,28,10)\n",
        "_, axs = plt.subplots(1, 10, figsize=(13,5))\n",
        "for i in range(10):\n",
        "    v =2\n",
        "    axs[i].imshow(w1[..., i], cmap='jet', interpolation='nearest', vmin=-v, vmax=v)\n",
        "    axs[i].grid(False)\n",
        "    axs[i].axis('off')"
      ],
      "execution_count": 30,
      "outputs": [
        {
          "output_type": "display_data",
          "data": {
            "image/png": "[encoded data removed]",
            "text/plain": [
              "<Figure size 936x360 with 10 Axes>"
            ]
          },
          "metadata": {
            "needs_background": "light"
          }
        }
      ]
    },
    {
      "cell_type": "markdown",
      "metadata": {
        "id": "Wuo23m_ytkTW"
      },
      "source": [
        "Here we classify images into 10 classes. But think of it: does the network know, or need to know that those were images? For the network each image is just a 784 values. And it finds that there is a patten in those!\n",
        "\n",
        "Same way one can feed any other bunch of numbers, and the network will try it's best to fugure out a relation pannern between those."
      ]
    },
    {
      "cell_type": "markdown",
      "metadata": {
        "id": "cgHlUGwDtkTW"
      },
      "source": [
        "## 7. Exercise 1"
      ]
    },
    {
      "cell_type": "markdown",
      "metadata": {
        "id": "Y4IKSsj9tkTX"
      },
      "source": [
        "Build a network with two layers, first with `tf.nn.relu` ReLU activation and 1500 neurons and second one with 10 and softmax activation. Start with `learning_rate` of 0.001 and find optimal value."
      ]
    },
    {
      "cell_type": "code",
      "source": [
        "# Number of inputs for neurons will be given by input data, i.e. image, size. Output - by number of classes, 10 in our case."
      ],
      "metadata": {
        "id": "HF7gOevwGY51"
      },
      "execution_count": 31,
      "outputs": []
    },
    {
      "cell_type": "code",
      "metadata": {
        "id": "fKx1wnrRtkTX"
      },
      "source": [
        "n_input = x_train.shape[1]\n",
        "n_output = y_train_1_hot.shape[1]"
      ],
      "execution_count": 32,
      "outputs": []
    },
    {
      "cell_type": "code",
      "source": [
        "x1 = tf.keras.layers.Input(name='X1', dtype=tf.float32, shape=[n_input])\n",
        "\n",
        "# 1 layer: 768 inputs -> 10 outputs, softmax activation\n",
        "l1 = tf.keras.layers.Dense(units=1500, name='L1', activation='relu')(x1)\n",
        "l2 = tf.keras.layers.Dense(units=10, name='L2', activation='softmax')(l1)\n",
        "\n",
        "\n",
        "model = tf.keras.Model(inputs=x1, outputs=l2)"
      ],
      "metadata": {
        "id": "OGMFuP6XGHlB"
      },
      "execution_count": 33,
      "outputs": []
    },
    {
      "cell_type": "code",
      "metadata": {
        "id": "m4V1-wkRtkTZ",
        "scrolled": false
      },
      "source": [
        "optimizer = tf.keras.optimizers.Adam(learning_rate=0.001)\n",
        "model.compile(optimizer=optimizer, loss='categorical_crossentropy', metrics=['accuracy'])"
      ],
      "execution_count": 34,
      "outputs": []
    },
    {
      "cell_type": "code",
      "source": [
        "model.summary()"
      ],
      "metadata": {
        "colab": {
          "base_uri": "https://localhost:8080/"
        },
        "id": "dx6HfL3rGOHI",
        "outputId": "74071a78-5c23-472a-c5e7-95d21258ddc9"
      },
      "execution_count": 35,
      "outputs": [
        {
          "output_type": "stream",
          "name": "stdout",
          "text": [
            "Model: \"model_2\"\n",
            "_________________________________________________________________\n",
            " Layer (type)                Output Shape              Param #   \n",
            "=================================================================\n",
            " X1 (InputLayer)             [(None, 784)]             0         \n",
            "                                                                 \n",
            " L1 (Dense)                  (None, 1500)              1177500   \n",
            "                                                                 \n",
            " L2 (Dense)                  (None, 10)                15010     \n",
            "                                                                 \n",
            "=================================================================\n",
            "Total params: 1,192,510\n",
            "Trainable params: 1,192,510\n",
            "Non-trainable params: 0\n",
            "_________________________________________________________________\n"
          ]
        }
      ]
    },
    {
      "cell_type": "code",
      "source": [
        "hist = model.fit(x=x_train, y=y_train_1_hot,\n",
        "                 epochs=5, batch_size=64,\n",
        "                 validation_data=(x_test, y_test_1_hot), \n",
        "                 )"
      ],
      "metadata": {
        "colab": {
          "base_uri": "https://localhost:8080/"
        },
        "id": "yAncVqopHgOV",
        "outputId": "44775c6b-76f5-43ce-bb58-e994cdd3bb4d"
      },
      "execution_count": 36,
      "outputs": [
        {
          "output_type": "stream",
          "name": "stdout",
          "text": [
            "Epoch 1/5\n",
            "938/938 [==============================] - 4s 4ms/step - loss: 0.1929 - accuracy: 0.9437 - val_loss: 0.0942 - val_accuracy: 0.9717\n",
            "Epoch 2/5\n",
            "938/938 [==============================] - 3s 3ms/step - loss: 0.0738 - accuracy: 0.9769 - val_loss: 0.0848 - val_accuracy: 0.9726\n",
            "Epoch 3/5\n",
            "938/938 [==============================] - 3s 4ms/step - loss: 0.0485 - accuracy: 0.9853 - val_loss: 0.0684 - val_accuracy: 0.9789\n",
            "Epoch 4/5\n",
            "938/938 [==============================] - 3s 3ms/step - loss: 0.0320 - accuracy: 0.9901 - val_loss: 0.0623 - val_accuracy: 0.9814\n",
            "Epoch 5/5\n",
            "938/938 [==============================] - 3s 4ms/step - loss: 0.0235 - accuracy: 0.9927 - val_loss: 0.0684 - val_accuracy: 0.9811\n"
          ]
        }
      ]
    },
    {
      "cell_type": "code",
      "source": [
        "fig, axs = plt.subplots(1, 2, figsize=(10,5))\n",
        "axs[0].plot(hist.epoch, hist.history['loss'])\n",
        "axs[0].plot(hist.epoch, hist.history['val_loss'])\n",
        "axs[0].legend(('training loss', 'validation loss'), loc='lower right')\n",
        "axs[1].plot(hist.epoch, hist.history['accuracy'])\n",
        "axs[1].plot(hist.epoch, hist.history['val_accuracy'])\n",
        "\n",
        "axs[1].legend(('training accuracy', 'validation accuracy'), loc='lower right')\n",
        "plt.show()"
      ],
      "metadata": {
        "colab": {
          "base_uri": "https://localhost:8080/",
          "height": 322
        },
        "id": "uGH_kfGUICw2",
        "outputId": "42220367-aae1-462a-e879-b935b73d9671"
      },
      "execution_count": 37,
      "outputs": [
        {
          "output_type": "display_data",
          "data": {
            "image/png": "[encoded data removed]",
            "text/plain": [
              "<Figure size 720x360 with 2 Axes>"
            ]
          },
          "metadata": {
            "needs_background": "light"
          }
        }
      ]
    },
    {
      "cell_type": "code",
      "source": [
        "# get index of first incorrectly recognize digit and display it\n",
        "\n",
        "test_pred = model.predict(x_test)\n",
        "pred_class_idx = np.argmax(test_pred, axis=1)\n",
        "\n",
        "correct = pred_class_idx == y_test\n",
        "\n",
        "wrong_idx  = [i for i,c in enumerate(correct) if c == False]\n"
      ],
      "metadata": {
        "id": "vYQHSWTzIIZy"
      },
      "execution_count": 38,
      "outputs": []
    },
    {
      "cell_type": "code",
      "source": [
        "wrong_sample_idx = 4\n",
        "sample_idx = wrong_idx[wrong_sample_idx]\n",
        "\n",
        "plt.imshow(x_test_2d[sample_idx], cmap='gray', interpolation='nearest')\n",
        "plt.show()\n",
        "\n",
        "print(f'class: {y_test[sample_idx]}, predicted class:{pred_class_idx[sample_idx]}')"
      ],
      "metadata": {
        "colab": {
          "base_uri": "https://localhost:8080/",
          "height": 282
        },
        "id": "AdZo4X-IILMI",
        "outputId": "13bf0586-7839-4688-a39d-a49bafd61dde"
      },
      "execution_count": 39,
      "outputs": [
        {
          "output_type": "display_data",
          "data": {
            "image/png": "[encoded data removed]",
            "text/plain": [
              "<Figure size 432x288 with 1 Axes>"
            ]
          },
          "metadata": {
            "needs_background": "light"
          }
        },
        {
          "output_type": "stream",
          "name": "stdout",
          "text": [
            "class: 6, predicted class:0\n"
          ]
        }
      ]
    },
    {
      "cell_type": "code",
      "source": [
        "lr0 = 0.001\n",
        "all_hist = {}\n",
        "for lrf in {0.1, 0.3, 0.4}"
      ],
      "metadata": {
        "id": "Ji4WidAAJfww",
        "outputId": "f6530bb7-caa0-44dc-b9cc-86ba8c52b2f0",
        "colab": {
          "base_uri": "https://localhost:8080/",
          "height": 131
        }
      },
      "execution_count": 40,
      "outputs": [
        {
          "output_type": "error",
          "ename": "SyntaxError",
          "evalue": "ignored",
          "traceback": [
            "\u001b[0;36m  File \u001b[0;32m\"<ipython-input-40-0c4e60e9db9c>\"\u001b[0;36m, line \u001b[0;32m3\u001b[0m\n\u001b[0;31m    for lrf in {0.1, 0.3, 0.4}\u001b[0m\n\u001b[0m                              ^\u001b[0m\n\u001b[0;31mSyntaxError\u001b[0m\u001b[0;31m:\u001b[0m invalid syntax\n"
          ]
        }
      ]
    },
    {
      "cell_type": "markdown",
      "source": [
        "Smaller learning rate, loss goes down slow. "
      ],
      "metadata": {
        "id": "no9xrwc1JudE"
      }
    },
    {
      "cell_type": "markdown",
      "metadata": {
        "id": "hh6I4wJLtkTa"
      },
      "source": [
        "## 8. Gradients visualization"
      ]
    },
    {
      "cell_type": "code",
      "metadata": {
        "id": "rzbUO_kZF9kI",
        "colab": {
          "base_uri": "https://localhost:8080/"
        },
        "outputId": "e885b2da-7127-4bcf-b6e2-f7281b1b342a"
      },
      "source": [
        "idx = 111\n",
        "inp_v = x_train[idx:idx+1]  # use some image to compute gradients with respect to\n",
        "img = x_train_2d[idx]\n",
        "\n",
        "inp = tf.constant(inp_v)  # create tf constant tensor\n",
        "with tf.GradientTape() as tape:  # gradient tape for gradint evaluation\n",
        "  tape.watch(inp)  # take inp as variable\n",
        "  preds = model(inp) # evaluate model output\n",
        "\n",
        "grads = tape.jacobian(preds, inp)  # evaluate d preds[i] / d inp[j]\n",
        "grads = grads.numpy().reshape(list(grads.shape)[:-1] + [28, 28])\n",
        "print(grads.shape, '<- (Batch_preds, preds[i], Batch_inp, inp[y], inp[x])')\n",
        "grads = grads[0,:,0]"
      ],
      "execution_count": 41,
      "outputs": [
        {
          "output_type": "stream",
          "name": "stdout",
          "text": [
            "(1, 10, 1, 28, 28) <- (Batch_preds, preds[i], Batch_inp, inp[y], inp[x])\n"
          ]
        }
      ]
    },
    {
      "cell_type": "markdown",
      "metadata": {
        "id": "1ujfuAkVtkTb"
      },
      "source": [
        "We will display several images, and corresponding gradients of maximal output activation, as well as all activations. This might help better understand how our network processes the imput data."
      ]
    },
    {
      "cell_type": "code",
      "source": [
        "print('prediction:', np.argmax(preds[0]))\n",
        "fig, axs = plt.subplots(1, 11, figsize=(4.1*11,4))\n",
        "axs[0].imshow(img)\n",
        "axs[0].set_title('raw')\n",
        "vmin,vmax = grads.min(), grads.max()\n",
        "for i, g in enumerate(grads):\n",
        "  axs[i+1].imshow(g, cmap='gray', vmin=vmin, vmax=vmax)\n",
        "  axs[i+1].set_title(r'$\\frac{\\partial\\;P(digit\\,%d)}{\\partial\\;input}$' % i, fontdict={'size':16})"
      ],
      "metadata": {
        "id": "yr1XlRNVGFey",
        "colab": {
          "base_uri": "https://localhost:8080/",
          "height": 201
        },
        "outputId": "dd1cb5b8-c618-41e6-e9af-21f9d03e331c"
      },
      "execution_count": 42,
      "outputs": [
        {
          "output_type": "stream",
          "name": "stdout",
          "text": [
            "prediction: 3\n"
          ]
        },
        {
          "output_type": "display_data",
          "data": {
            "image/png": "[encoded data removed]",
            "text/plain": [
              "<Figure size 3247.2x288 with 11 Axes>"
            ]
          },
          "metadata": {
            "needs_background": "light"
          }
        }
      ]
    },
    {
      "cell_type": "markdown",
      "source": [
        "https://medium.com/geekculture/how-visualizations-help-make-sense-of-deep-learning-a408ab00688f"
      ],
      "metadata": {
        "id": "ZsGHp1_fZBbV"
      }
    },
    {
      "cell_type": "markdown",
      "metadata": {
        "id": "kcLUPxNwtkTd"
      },
      "source": [
        "## 9. Exercise 2"
      ]
    },
    {
      "cell_type": "markdown",
      "source": [
        "### Group 1"
      ],
      "metadata": {
        "id": "TE_HXLPjfRBt"
      }
    },
    {
      "cell_type": "markdown",
      "metadata": {
        "id": "7BWuZAD3tkTf"
      },
      "source": [
        "Build the network with 3 or more layers. Try to get test accuracy >98.5%.\n",
        "Better to copy and modify the previous code than modyfy that one: then you can compare results.\n",
        "Visualize your model."
      ]
    },
    {
      "cell_type": "code",
      "metadata": {
        "id": "JCJ1i_botkTg"
      },
      "source": [
        "n_input = x_train.shape[1]\n",
        "n_output = y_train_1_hot.shape[1]\n",
        "\n",
        "x1 = tf.keras.layers.Input(name='X1', dtype=tf.float32, shape=[n_input])\n",
        "\n",
        "# 1 layer: 768 inputs -> 10 outputs, softmax activation\n",
        "l1 = tf.keras.layers.Dense(units=1000, name='L1', activation='relu')(x1)\n",
        "l2 = tf.keras.layers.Dense(units=300, name='L2', activation='relu')(l1)\n",
        "#l3 = tf.keras.layers.Dense(units=20, name='L3', activation='relu')(l2)\n",
        "l3 = tf.keras.layers.Dense(units=10, name='L4', activation='softmax')(l2)\n",
        "\n",
        "\n",
        "model = tf.keras.Model(inputs=x1, outputs=l3)"
      ],
      "execution_count": 88,
      "outputs": []
    },
    {
      "cell_type": "code",
      "source": [
        "\n",
        "optimizer = tf.keras.optimizers.Adam(learning_rate=0.0001)\n",
        "model.compile(optimizer=optimizer, loss='categorical_crossentropy', metrics=['accuracy'])\n"
      ],
      "metadata": {
        "id": "Cm7nFe4lTANO"
      },
      "execution_count": 89,
      "outputs": []
    },
    {
      "cell_type": "code",
      "source": [
        "model.summary()\n"
      ],
      "metadata": {
        "id": "XlgfsIsBTCqN",
        "outputId": "478445a8-294d-48e5-a376-7af08af54888",
        "colab": {
          "base_uri": "https://localhost:8080/"
        }
      },
      "execution_count": 90,
      "outputs": [
        {
          "output_type": "stream",
          "name": "stdout",
          "text": [
            "Model: \"model_11\"\n",
            "_________________________________________________________________\n",
            " Layer (type)                Output Shape              Param #   \n",
            "=================================================================\n",
            " X1 (InputLayer)             [(None, 784)]             0         \n",
            "                                                                 \n",
            " L1 (Dense)                  (None, 1000)              785000    \n",
            "                                                                 \n",
            " L2 (Dense)                  (None, 300)               300300    \n",
            "                                                                 \n",
            " L4 (Dense)                  (None, 10)                3010      \n",
            "                                                                 \n",
            "=================================================================\n",
            "Total params: 1,088,310\n",
            "Trainable params: 1,088,310\n",
            "Non-trainable params: 0\n",
            "_________________________________________________________________\n"
          ]
        }
      ]
    },
    {
      "cell_type": "code",
      "source": [
        "hist = model.fit(x=x_train, y=y_train_1_hot,\n",
        "                 epochs=50, batch_size=128,\n",
        "                 validation_data=(x_test, y_test_1_hot), \n",
        "                 )"
      ],
      "metadata": {
        "id": "BHrS7cdgTFw2",
        "outputId": "b07e101c-6e71-4aee-d9ca-01619ebdb38e",
        "colab": {
          "base_uri": "https://localhost:8080/"
        }
      },
      "execution_count": 91,
      "outputs": [
        {
          "output_type": "stream",
          "name": "stdout",
          "text": [
            "Epoch 1/50\n",
            "469/469 [==============================] - 2s 5ms/step - loss: 0.4588 - accuracy: 0.8851 - val_loss: 0.2113 - val_accuracy: 0.9385\n",
            "Epoch 2/50\n",
            "469/469 [==============================] - 2s 4ms/step - loss: 0.1810 - accuracy: 0.9490 - val_loss: 0.1491 - val_accuracy: 0.9569\n",
            "Epoch 3/50\n",
            "469/469 [==============================] - 2s 4ms/step - loss: 0.1311 - accuracy: 0.9632 - val_loss: 0.1172 - val_accuracy: 0.9649\n",
            "Epoch 4/50\n",
            "469/469 [==============================] - 2s 4ms/step - loss: 0.1017 - accuracy: 0.9719 - val_loss: 0.1019 - val_accuracy: 0.9696\n",
            "Epoch 5/50\n",
            "469/469 [==============================] - 2s 4ms/step - loss: 0.0810 - accuracy: 0.9771 - val_loss: 0.0906 - val_accuracy: 0.9710\n",
            "Epoch 6/50\n",
            "469/469 [==============================] - 2s 4ms/step - loss: 0.0665 - accuracy: 0.9814 - val_loss: 0.0819 - val_accuracy: 0.9752\n",
            "Epoch 7/50\n",
            "469/469 [==============================] - 2s 4ms/step - loss: 0.0551 - accuracy: 0.9850 - val_loss: 0.0770 - val_accuracy: 0.9767\n",
            "Epoch 8/50\n",
            "469/469 [==============================] - 2s 4ms/step - loss: 0.0463 - accuracy: 0.9875 - val_loss: 0.0747 - val_accuracy: 0.9771\n",
            "Epoch 9/50\n",
            "469/469 [==============================] - 2s 4ms/step - loss: 0.0387 - accuracy: 0.9897 - val_loss: 0.0688 - val_accuracy: 0.9792\n",
            "Epoch 10/50\n",
            "469/469 [==============================] - 2s 4ms/step - loss: 0.0322 - accuracy: 0.9919 - val_loss: 0.0689 - val_accuracy: 0.9788\n",
            "Epoch 11/50\n",
            "469/469 [==============================] - 2s 4ms/step - loss: 0.0273 - accuracy: 0.9930 - val_loss: 0.0655 - val_accuracy: 0.9800\n",
            "Epoch 12/50\n",
            "469/469 [==============================] - 2s 4ms/step - loss: 0.0226 - accuracy: 0.9950 - val_loss: 0.0652 - val_accuracy: 0.9791\n",
            "Epoch 13/50\n",
            "469/469 [==============================] - 2s 4ms/step - loss: 0.0190 - accuracy: 0.9956 - val_loss: 0.0596 - val_accuracy: 0.9808\n",
            "Epoch 14/50\n",
            "469/469 [==============================] - 2s 4ms/step - loss: 0.0157 - accuracy: 0.9972 - val_loss: 0.0616 - val_accuracy: 0.9805\n",
            "Epoch 15/50\n",
            "469/469 [==============================] - 2s 4ms/step - loss: 0.0131 - accuracy: 0.9978 - val_loss: 0.0614 - val_accuracy: 0.9818\n",
            "Epoch 16/50\n",
            "469/469 [==============================] - 2s 4ms/step - loss: 0.0109 - accuracy: 0.9982 - val_loss: 0.0618 - val_accuracy: 0.9806\n",
            "Epoch 17/50\n",
            "469/469 [==============================] - 2s 4ms/step - loss: 0.0088 - accuracy: 0.9988 - val_loss: 0.0604 - val_accuracy: 0.9818\n",
            "Epoch 18/50\n",
            "469/469 [==============================] - 2s 4ms/step - loss: 0.0071 - accuracy: 0.9992 - val_loss: 0.0627 - val_accuracy: 0.9810\n",
            "Epoch 19/50\n",
            "469/469 [==============================] - 2s 4ms/step - loss: 0.0062 - accuracy: 0.9991 - val_loss: 0.0602 - val_accuracy: 0.9814\n",
            "Epoch 20/50\n",
            "469/469 [==============================] - 2s 4ms/step - loss: 0.0050 - accuracy: 0.9995 - val_loss: 0.0658 - val_accuracy: 0.9821\n",
            "Epoch 21/50\n",
            "469/469 [==============================] - 2s 4ms/step - loss: 0.0042 - accuracy: 0.9996 - val_loss: 0.0636 - val_accuracy: 0.9819\n",
            "Epoch 22/50\n",
            "469/469 [==============================] - 2s 4ms/step - loss: 0.0031 - accuracy: 0.9998 - val_loss: 0.0660 - val_accuracy: 0.9818\n",
            "Epoch 23/50\n",
            "469/469 [==============================] - 2s 4ms/step - loss: 0.0029 - accuracy: 0.9998 - val_loss: 0.0658 - val_accuracy: 0.9826\n",
            "Epoch 24/50\n",
            "469/469 [==============================] - 2s 4ms/step - loss: 0.0023 - accuracy: 0.9999 - val_loss: 0.0653 - val_accuracy: 0.9814\n",
            "Epoch 25/50\n",
            "469/469 [==============================] - 2s 4ms/step - loss: 0.0015 - accuracy: 1.0000 - val_loss: 0.0659 - val_accuracy: 0.9822\n",
            "Epoch 26/50\n",
            "469/469 [==============================] - 2s 4ms/step - loss: 0.0026 - accuracy: 0.9996 - val_loss: 0.0975 - val_accuracy: 0.9769\n",
            "Epoch 27/50\n",
            "469/469 [==============================] - 2s 4ms/step - loss: 0.0041 - accuracy: 0.9991 - val_loss: 0.0680 - val_accuracy: 0.9821\n",
            "Epoch 28/50\n",
            "469/469 [==============================] - 2s 4ms/step - loss: 0.0010 - accuracy: 1.0000 - val_loss: 0.0690 - val_accuracy: 0.9824\n",
            "Epoch 29/50\n",
            "469/469 [==============================] - 2s 4ms/step - loss: 6.9690e-04 - accuracy: 1.0000 - val_loss: 0.0687 - val_accuracy: 0.9827\n",
            "Epoch 30/50\n",
            "469/469 [==============================] - 2s 4ms/step - loss: 5.7283e-04 - accuracy: 1.0000 - val_loss: 0.0693 - val_accuracy: 0.9824\n",
            "Epoch 31/50\n",
            "469/469 [==============================] - 2s 4ms/step - loss: 5.3142e-04 - accuracy: 1.0000 - val_loss: 0.0703 - val_accuracy: 0.9829\n",
            "Epoch 32/50\n",
            "469/469 [==============================] - 2s 4ms/step - loss: 5.4650e-04 - accuracy: 1.0000 - val_loss: 0.0786 - val_accuracy: 0.9813\n",
            "Epoch 33/50\n",
            "469/469 [==============================] - 2s 4ms/step - loss: 0.0066 - accuracy: 0.9980 - val_loss: 0.0763 - val_accuracy: 0.9818\n",
            "Epoch 34/50\n",
            "469/469 [==============================] - 2s 4ms/step - loss: 9.8919e-04 - accuracy: 0.9999 - val_loss: 0.0726 - val_accuracy: 0.9822\n",
            "Epoch 35/50\n",
            "469/469 [==============================] - 2s 4ms/step - loss: 4.2669e-04 - accuracy: 1.0000 - val_loss: 0.0721 - val_accuracy: 0.9828\n",
            "Epoch 36/50\n",
            "469/469 [==============================] - 2s 4ms/step - loss: 3.3475e-04 - accuracy: 1.0000 - val_loss: 0.0728 - val_accuracy: 0.9828\n",
            "Epoch 37/50\n",
            "469/469 [==============================] - 2s 4ms/step - loss: 2.8461e-04 - accuracy: 1.0000 - val_loss: 0.0741 - val_accuracy: 0.9822\n",
            "Epoch 38/50\n",
            "469/469 [==============================] - 2s 4ms/step - loss: 2.5099e-04 - accuracy: 1.0000 - val_loss: 0.0739 - val_accuracy: 0.9830\n",
            "Epoch 39/50\n",
            "469/469 [==============================] - 2s 4ms/step - loss: 2.1771e-04 - accuracy: 1.0000 - val_loss: 0.0749 - val_accuracy: 0.9829\n",
            "Epoch 40/50\n",
            "469/469 [==============================] - 2s 4ms/step - loss: 0.0015 - accuracy: 0.9997 - val_loss: 0.1024 - val_accuracy: 0.9756\n",
            "Epoch 41/50\n",
            "469/469 [==============================] - 2s 4ms/step - loss: 0.0051 - accuracy: 0.9987 - val_loss: 0.0756 - val_accuracy: 0.9834\n",
            "Epoch 42/50\n",
            "469/469 [==============================] - 2s 4ms/step - loss: 4.1274e-04 - accuracy: 1.0000 - val_loss: 0.0749 - val_accuracy: 0.9833\n",
            "Epoch 43/50\n",
            "469/469 [==============================] - 2s 4ms/step - loss: 2.4884e-04 - accuracy: 1.0000 - val_loss: 0.0753 - val_accuracy: 0.9833\n",
            "Epoch 44/50\n",
            "469/469 [==============================] - 2s 4ms/step - loss: 1.9783e-04 - accuracy: 1.0000 - val_loss: 0.0763 - val_accuracy: 0.9829\n",
            "Epoch 45/50\n",
            "469/469 [==============================] - 2s 4ms/step - loss: 1.6605e-04 - accuracy: 1.0000 - val_loss: 0.0773 - val_accuracy: 0.9834\n",
            "Epoch 46/50\n",
            "469/469 [==============================] - 2s 5ms/step - loss: 1.4440e-04 - accuracy: 1.0000 - val_loss: 0.0784 - val_accuracy: 0.9831\n",
            "Epoch 47/50\n",
            "469/469 [==============================] - 2s 4ms/step - loss: 1.2528e-04 - accuracy: 1.0000 - val_loss: 0.0790 - val_accuracy: 0.9829\n",
            "Epoch 48/50\n",
            "469/469 [==============================] - 2s 4ms/step - loss: 1.1216e-04 - accuracy: 1.0000 - val_loss: 0.0796 - val_accuracy: 0.9829\n",
            "Epoch 49/50\n",
            "469/469 [==============================] - 2s 4ms/step - loss: 9.6526e-05 - accuracy: 1.0000 - val_loss: 0.0799 - val_accuracy: 0.9830\n",
            "Epoch 50/50\n",
            "469/469 [==============================] - 2s 4ms/step - loss: 8.8374e-05 - accuracy: 1.0000 - val_loss: 0.0815 - val_accuracy: 0.9828\n"
          ]
        }
      ]
    },
    {
      "cell_type": "code",
      "source": [
        "fig, axs = plt.subplots(1, 2, figsize=(10,5))\n",
        "axs[0].plot(hist.epoch, hist.history['loss'])\n",
        "axs[0].plot(hist.epoch, hist.history['val_loss'])\n",
        "axs[0].legend(('training loss', 'validation loss'), loc='lower right')\n",
        "axs[1].plot(hist.epoch, hist.history['accuracy'])\n",
        "axs[1].plot(hist.epoch, hist.history['val_accuracy'])\n",
        "\n",
        "axs[1].legend(('training accuracy', 'validation accuracy'), loc='lower right')\n",
        "plt.show()"
      ],
      "metadata": {
        "id": "VW4R7P-uUlMY",
        "outputId": "581cfa5d-b507-43ac-aca5-547741cdcfb5",
        "colab": {
          "base_uri": "https://localhost:8080/",
          "height": 320
        }
      },
      "execution_count": 86,
      "outputs": [
        {
          "output_type": "display_data",
          "data": {
            "image/png": "[encoded data removed]",
            "text/plain": [
              "<Figure size 720x360 with 2 Axes>"
            ]
          },
          "metadata": {
            "needs_background": "light"
          }
        }
      ]
    },
    {
      "cell_type": "code",
      "source": [
        "n_input = x_train.shape[1]\n",
        "n_output = y_train_1_hot.shape[1]\n",
        "\n",
        "x1 = tf.keras.layers.Input(name='X1', dtype=tf.float32, shape=[n_input])\n",
        "\n",
        "# 1 layer: 768 inputs -> 10 outputs, softmax activation\n",
        "l1 = tf.keras.layers.Dense(units=1500, name='L1', activation='relu')(x1)\n",
        "l2 = tf.keras.layers.Dense(units=250, name='L2', activation='relu')(l1)\n",
        "#l3 = tf.keras.layers.Dense(units=20, name='L3', activation='relu')(l2)\n",
        "l3 = tf.keras.layers.Dense(units=10, name='L4', activation='softmax')(l2)\n",
        "\n",
        "\n",
        "model = tf.keras.Model(inputs=x1, outputs=l3)"
      ],
      "metadata": {
        "id": "XmQU-KwGgi3b"
      },
      "execution_count": null,
      "outputs": []
    },
    {
      "cell_type": "markdown",
      "source": [
        "### Group 2"
      ],
      "metadata": {
        "id": "I3v3Qp2WfMoE"
      }
    },
    {
      "cell_type": "markdown",
      "source": [
        "You can repeat the same for a regression problem: here you will have just 1 output in the last layer, with no activation - to predict continuous unboud range. You can use the `mse` or `mae` loss. Compare results with a baseline linear / random forest model.\n",
        "\n",
        "How many parameters does your model have as compared to number of samples?"
      ],
      "metadata": {
        "id": "saHOeppBfaDI"
      }
    },
    {
      "cell_type": "code",
      "source": [
        "(x_train, y_train), (x_test, y_test) = tf.keras.datasets.boston_housing.load_data()\n",
        "\n",
        "# get per-feature statistics (mean, standard deviation) from the training set to normalize by\n",
        "x_train_mean = np.mean(x_train, axis=0)\n",
        "x_train_std = np.std(x_train, axis=0)\n",
        "\n",
        "x_train = (x_train - x_train_mean) / x_train_std\n",
        "x_test = (x_test - x_train_mean) / x_train_std"
      ],
      "metadata": {
        "id": "SukdjER1gYfT"
      },
      "execution_count": null,
      "outputs": []
    },
    {
      "cell_type": "code",
      "source": [
        "print(x_test.shape)"
      ],
      "metadata": {
        "id": "Rb8xwJUMgzy0"
      },
      "execution_count": null,
      "outputs": []
    },
    {
      "cell_type": "code",
      "source": [
        "print(y_test.shape)"
      ],
      "metadata": {
        "id": "U2kpPnnhg9n5"
      },
      "execution_count": null,
      "outputs": []
    },
    {
      "cell_type": "code",
      "source": [
        "plt.hist(y_test);"
      ],
      "metadata": {
        "id": "LfPTV8SVhPgg"
      },
      "execution_count": null,
      "outputs": []
    }
  ]
}